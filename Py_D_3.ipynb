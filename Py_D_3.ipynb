{
  "nbformat": 4,
  "nbformat_minor": 0,
  "metadata": {
    "colab": {
      "name": "Py D-3.ipynb",
      "provenance": [],
      "collapsed_sections": [],
      "authorship_tag": "ABX9TyN1wtVl5atvckUokw5Cq7tz",
      "include_colab_link": true
    },
    "kernelspec": {
      "name": "python3",
      "display_name": "Python 3"
    },
    "language_info": {
      "name": "python"
    }
  },
  "cells": [
    {
      "cell_type": "markdown",
      "metadata": {
        "id": "view-in-github",
        "colab_type": "text"
      },
      "source": [
        "<a href=\"https://colab.research.google.com/github/hyeongwon12/py/blob/main/Py_D_3.ipynb\" target=\"_parent\"><img src=\"https://colab.research.google.com/assets/colab-badge.svg\" alt=\"Open In Colab\"/></a>"
      ]
    },
    {
      "cell_type": "code",
      "execution_count": 1,
      "metadata": {
        "colab": {
          "base_uri": "https://localhost:8080/"
        },
        "id": "CqM2K9dAGiam",
        "outputId": "e8ae9c09-0766-45bb-fcb6-39fe07d29f56"
      },
      "outputs": [
        {
          "output_type": "stream",
          "name": "stdout",
          "text": [
            "12345\n",
            "당신이 입력한 수는 12345입니다.\n"
          ]
        }
      ],
      "source": [
        "# p62 표준입력\n",
        "# input()함수는 키보드로 입력을 받을때 사용된다.\n",
        "\n",
        "n = input()\n",
        "print(f'당신이 입력한 수는 {n}입니다.')"
      ]
    },
    {
      "cell_type": "code",
      "source": [
        "name = input('이름을 입력하세요>>>')\n",
        "age = input('나이를입력하세요>>>')\n",
        "\n",
        "print(f'입력된 이름은{name}이고 나이는 {age}입니다')"
      ],
      "metadata": {
        "colab": {
          "base_uri": "https://localhost:8080/"
        },
        "id": "45ZaJK6_JSOf",
        "outputId": "c6620559-6773-40eb-edb2-71b4f1f40881"
      },
      "execution_count": 2,
      "outputs": [
        {
          "output_type": "stream",
          "name": "stdout",
          "text": [
            "이름을 입력하세요>>>조형원\n",
            "나이를입력하세요>>>27\n",
            "입력된 이름은조형원이고 나이는 27입니다\n"
          ]
        }
      ]
    },
    {
      "cell_type": "code",
      "source": [
        "#좋아하는 과일은?\n",
        "#당신이 좋아하는 과일은 ... ..입니다.\n",
        "\n",
        "fruit = input('좋아하는 과일은?')\n",
        "\n",
        "print(f'당신이 좋아하는 과일은 {fruit} 입니다')"
      ],
      "metadata": {
        "colab": {
          "base_uri": "https://localhost:8080/"
        },
        "id": "Ns9QCU5EKECq",
        "outputId": "ba4feeea-7098-4f3e-8a07-1085a2f7e4af"
      },
      "execution_count": 5,
      "outputs": [
        {
          "output_type": "stream",
          "name": "stdout",
          "text": [
            "좋아하는 과일은?오렌지\n",
            "당신이 좋아하는 과일은 오렌지 입니다\n"
          ]
        }
      ]
    },
    {
      "cell_type": "code",
      "source": [
        "#특징) 형 변환    input을 거치면 무조건 문자다. (str)\n",
        "n = input(\"정수를 입력하세요\")\n",
        "print(type(n))"
      ],
      "metadata": {
        "colab": {
          "base_uri": "https://localhost:8080/"
        },
        "id": "uAozZalUKkRG",
        "outputId": "46ec3193-03e8-41df-c2a6-67f676109fde"
      },
      "execution_count": 6,
      "outputs": [
        {
          "output_type": "stream",
          "name": "stdout",
          "text": [
            "정수를 입력하세요9\n",
            "<class 'str'>\n"
          ]
        }
      ]
    },
    {
      "cell_type": "code",
      "source": [
        "price = 5000\n",
        "n = input('할부 개월 입력>>>')\n",
        "print(f'매달내는 돈은 {price / n}원 입니다.')"
      ],
      "metadata": {
        "colab": {
          "base_uri": "https://localhost:8080/",
          "height": 229
        },
        "id": "1OIxFkwbLaDN",
        "outputId": "9bc53b68-9e60-479a-8434-1c24ff4c06f7"
      },
      "execution_count": 7,
      "outputs": [
        {
          "name": "stdout",
          "output_type": "stream",
          "text": [
            "할부 개월 입력>>>12\n"
          ]
        },
        {
          "output_type": "error",
          "ename": "TypeError",
          "evalue": "ignored",
          "traceback": [
            "\u001b[0;31m---------------------------------------------------------------------------\u001b[0m",
            "\u001b[0;31mTypeError\u001b[0m                                 Traceback (most recent call last)",
            "\u001b[0;32m<ipython-input-7-a11efc5a8c0b>\u001b[0m in \u001b[0;36m<module>\u001b[0;34m()\u001b[0m\n\u001b[1;32m      1\u001b[0m \u001b[0mprice\u001b[0m \u001b[0;34m=\u001b[0m \u001b[0;36m5000\u001b[0m\u001b[0;34m\u001b[0m\u001b[0;34m\u001b[0m\u001b[0m\n\u001b[1;32m      2\u001b[0m \u001b[0mn\u001b[0m \u001b[0;34m=\u001b[0m \u001b[0minput\u001b[0m\u001b[0;34m(\u001b[0m\u001b[0;34m'할부 개월 입력>>>'\u001b[0m\u001b[0;34m)\u001b[0m\u001b[0;34m\u001b[0m\u001b[0;34m\u001b[0m\u001b[0m\n\u001b[0;32m----> 3\u001b[0;31m \u001b[0mprint\u001b[0m\u001b[0;34m(\u001b[0m\u001b[0;34mf'매달내는 돈은 {price / n}원 입니다.'\u001b[0m\u001b[0;34m)\u001b[0m\u001b[0;34m\u001b[0m\u001b[0;34m\u001b[0m\u001b[0m\n\u001b[0m",
            "\u001b[0;31mTypeError\u001b[0m: unsupported operand type(s) for /: 'int' and 'str'"
          ]
        }
      ]
    },
    {
      "cell_type": "code",
      "source": [
        "price = 5000\n",
        "n = int(input('할부 개월 입력>>>'))\n",
        "print(f'매달내는 돈은 {price / n}원 입니다.')"
      ],
      "metadata": {
        "colab": {
          "base_uri": "https://localhost:8080/"
        },
        "id": "6ptJvQcWL3GL",
        "outputId": "37da54bb-b1b2-4fcf-8271-7dfb611a32ee"
      },
      "execution_count": 8,
      "outputs": [
        {
          "output_type": "stream",
          "name": "stdout",
          "text": [
            "할부 개월 입력>>>12\n",
            "매달내는 돈은 416.6666666666667원 입니다.\n"
          ]
        }
      ]
    },
    {
      "cell_type": "code",
      "source": [
        "# 사용자로부터 2개의 실수를 입력받아 합계를 구하는 프로그램을 구현하세요.\n",
        "\n",
        "a = float(input('첫 번째 실수를 입력하세요'))\n",
        "b = float(input('두 번째 실수를 입력하세요')) \n",
        "\n",
        "print(f'{a}와 {b}의 합은 {a+b}입니다.')"
      ],
      "metadata": {
        "colab": {
          "base_uri": "https://localhost:8080/"
        },
        "id": "ftsNC_84MNJU",
        "outputId": "e18ee22e-1689-40fb-fc24-e2d4caece55d"
      },
      "execution_count": 11,
      "outputs": [
        {
          "output_type": "stream",
          "name": "stdout",
          "text": [
            "첫 번째 실수를 입력하세요1.23\n",
            "두 번째 실수를 입력하세요2.34\n",
            "1.23와2.34의 합은 3.57입니다.\n"
          ]
        }
      ]
    },
    {
      "cell_type": "code",
      "source": [
        "# 사용자로부터 1에서 12사이의 월을 입력받아 해당 월이 며칠까지 있는지 출력하는 프로그램을 구현하세요\n",
        "\n",
        "date = [31,28,31,30,31,30,31,31,30,31,30,31]\n",
        "month = int(input('1~12사이의 월을입력하세요>>>'))\n",
        "\n",
        "print(f'{month}월은 {date[month-1]}일까지 있습니다')"
      ],
      "metadata": {
        "colab": {
          "base_uri": "https://localhost:8080/"
        },
        "id": "W4aOUTE6N4Xp",
        "outputId": "f1b35654-ce8d-4e88-c770-e0ccb200a6ce"
      },
      "execution_count": 14,
      "outputs": [
        {
          "output_type": "stream",
          "name": "stdout",
          "text": [
            "1~12사이의 월을입력하세요>>>1\n",
            "1월은 31일까지 있습니다\n"
          ]
        }
      ]
    },
    {
      "cell_type": "code",
      "source": [
        "# 파이썬으로 영어사전을 구현하고자 합니다. 다음과 같은 딕셔너리(dict)를 하나 생성하고 실행 예와 같이 동작하는 프로그램을 구현하세요.\n",
        "\n",
        "english_dict ={\n",
        "    'flower':'꽃',\n",
        "    'fly':'날다',\n",
        "    'floor':'바닥'\n",
        "}\n",
        "english = input('영어단어를 입력하세요>>>')\n",
        "print(f'{english}:{english_dict[english]}')"
      ],
      "metadata": {
        "colab": {
          "base_uri": "https://localhost:8080/"
        },
        "id": "I79EckBtQJEk",
        "outputId": "6280e223-5dea-413c-e018-939c443df066"
      },
      "execution_count": 25,
      "outputs": [
        {
          "output_type": "stream",
          "name": "stdout",
          "text": [
            "영어단어를 입력하세요>>>flower\n",
            "flower:꽃\n"
          ]
        }
      ]
    },
    {
      "cell_type": "code",
      "source": [
        "# 수학여행을 어디로 갈지 결정하기 위해 학생들이 희망하는 모든 수학여행 장소를 조사하기로 했습니다. \n",
        "# 학생들이 원하는 장소를 입력받아 동일한 입력은 무시하고 모든 입력을 저장하려고 합니다.\n",
        "# 학생을 3명으로 가정하고 실행 예와 같이 동작하는 프로그램을 구현하세요.\n",
        "s = set()\n",
        "\n",
        "place = input('희망하는 수학여행지를 입력하세요')\n",
        "s.add(place)\n",
        "place = input('희망하는 수학여행지를 입력하세요')\n",
        "s.add(place)\n",
        "place = input('희망하는 수학여행지를 입력하세요')\n",
        "s.add(place)\n",
        "\n",
        "print(f'조사된 수학여행지는 {s}입니다')\n"
      ],
      "metadata": {
        "colab": {
          "base_uri": "https://localhost:8080/"
        },
        "id": "ttsEexmRSIXx",
        "outputId": "0f2bcc61-0f44-42fe-9ad5-6593817fa6df"
      },
      "execution_count": 26,
      "outputs": [
        {
          "output_type": "stream",
          "name": "stdout",
          "text": [
            "희망하는 수학여행지를 입력하세요제주\n",
            "희망하는 수학여행지를 입력하세요제주\n",
            "희망하는 수학여행지를 입력하세요민속촌\n",
            "조사된 수학여행지는 {'민속촌', '제주'}입니다\n"
          ]
        }
      ]
    },
    {
      "cell_type": "code",
      "source": [
        "# 연산자와 우선순위\n",
        "\n",
        "a = 7\n",
        "b = 2\n",
        "print(f'{a} + {b}= {a+b}')\n",
        "print(f'{a} - {b}= {a-b}')\n",
        "print(f'{a} * {b}= {a*b}')\n",
        "print(f'{a} ** {b}= {a**b}')\n",
        "print(f'{a} / {b} = {a/b}')\n",
        "print(f'{a} // {b} = {a//b}')\n",
        "print(f'{a} % {b} = {a%b}')"
      ],
      "metadata": {
        "colab": {
          "base_uri": "https://localhost:8080/"
        },
        "id": "DFEwOPUZVRDo",
        "outputId": "f317c60a-f04f-4fd7-efe2-f98ae030e97a"
      },
      "execution_count": 29,
      "outputs": [
        {
          "output_type": "stream",
          "name": "stdout",
          "text": [
            "7 + 2= 9\n",
            "7 - 2= 5\n",
            "7 * 2= 14\n",
            "7 ** 2= 49\n",
            "7 / 2 = 3.5\n",
            "7 // 2 = 3\n",
            "7 % 2 = 1\n"
          ]
        }
      ]
    },
    {
      "cell_type": "code",
      "source": [
        "#  대입 연산자\n",
        "\n",
        "a = 1\n",
        "b = 2\n",
        "\n",
        "a, b = 1, 2\n",
        "\n",
        "print(f'a = {a}, b = {b}')\n",
        "\n",
        "# 두 변수의 값 교환 (다른 언어)\n",
        "t = a\n",
        "a = b\n",
        "b = t\n",
        "print(f'a = {a}, b = {b}')\n",
        "\n",
        "# 두 변수의 값 교환 (파이썬)\n",
        "a, b = b, a\n",
        "print(f'a = {a}, b = {b}')"
      ],
      "metadata": {
        "colab": {
          "base_uri": "https://localhost:8080/"
        },
        "id": "c_DkJ4cSXA6c",
        "outputId": "c0583494-ee45-4ea4-92f3-90e5bc8fa634"
      },
      "execution_count": 33,
      "outputs": [
        {
          "output_type": "stream",
          "name": "stdout",
          "text": [
            "a = 1, b = 2\n",
            "a = 2, b = 1\n",
            "a = 1, b = 2\n"
          ]
        }
      ]
    },
    {
      "cell_type": "code",
      "source": [
        "# ★★★★★ 복합 대입 연산자 ★★★★★\\\n",
        "\n",
        "a = 1\n",
        "print(a)\n",
        "a = a + 1\n",
        "print(a)\n",
        "a += 1\n",
        "print(a)\n",
        "\n",
        "a -= 1 # a = a - 1\n",
        "print(a)"
      ],
      "metadata": {
        "colab": {
          "base_uri": "https://localhost:8080/"
        },
        "id": "IPHuMu2ZaOV_",
        "outputId": "9428bb6e-1a7e-4011-de4a-bb135badf210"
      },
      "execution_count": 36,
      "outputs": [
        {
          "output_type": "stream",
          "name": "stdout",
          "text": [
            "1\n",
            "2\n",
            "3\n",
            "2\n"
          ]
        }
      ]
    },
    {
      "cell_type": "code",
      "source": [
        "a, b = 10, 20\n",
        "print(f'a = {a}, b = {b}')\n",
        "\n",
        "a, b = b, a   # 다른 언어에는 없는 파이썬 스러운 표현\n",
        "print(f'a = {a}, b = {b}')"
      ],
      "metadata": {
        "colab": {
          "base_uri": "https://localhost:8080/"
        },
        "id": "a9uKl-w6bQmE",
        "outputId": "0f139dc6-0999-46f6-e7b1-38692be53866"
      },
      "execution_count": 39,
      "outputs": [
        {
          "output_type": "stream",
          "name": "stdout",
          "text": [
            "a = 10, b = 20\n",
            "a = 20, b = 10\n"
          ]
        }
      ]
    },
    {
      "cell_type": "code",
      "source": [
        "piggy_bank = 0\n",
        "\n",
        "money = 10000\n",
        "piggy_bank += money    #piggy_bank + money\n",
        "print(f'저금통에 용돈 {piggy_bank}원을 넣었습니다.')\n",
        "print(f'지금 저금통에는 {money}원이 있습니다.')\n",
        "\n",
        "snack = 2000\n",
        "piggy_bank -= snack\n",
        "print(f'저금통에서 스낵 구입비 {snack}원을 뺏습니다.')\n",
        "print(f'지금 저금통에는 {piggy_bank}원이 있습니다.')"
      ],
      "metadata": {
        "colab": {
          "base_uri": "https://localhost:8080/"
        },
        "id": "QtBjHQcgbp-v",
        "outputId": "90a14040-fa5d-433a-ea7e-972986e80c06"
      },
      "execution_count": 50,
      "outputs": [
        {
          "output_type": "stream",
          "name": "stdout",
          "text": [
            "저금통에 용돈 10000원을 넣었습니다.\n",
            "지금 저금통에는 10000원이 있습니다.\n",
            "저금통에서 스낵 구입비 2000원을 뺏습니다.\n",
            "지금 저금통에는 8000원이 있습니다.\n"
          ]
        }
      ]
    },
    {
      "cell_type": "code",
      "source": [
        "# p81 시퀀스 연산자\n",
        "\n",
        "[1,3,5] + [2,4,6]"
      ],
      "metadata": {
        "colab": {
          "base_uri": "https://localhost:8080/"
        },
        "id": "tayC5kdIdbgR",
        "outputId": "c416bc9d-772d-4ed6-d70f-8bb7f8bfbf2c"
      },
      "execution_count": 51,
      "outputs": [
        {
          "output_type": "execute_result",
          "data": {
            "text/plain": [
              "[1, 3, 5, 2, 4, 6]"
            ]
          },
          "metadata": {},
          "execution_count": 51
        }
      ]
    },
    {
      "cell_type": "code",
      "source": [
        "'hello'+' '+'python'"
      ],
      "metadata": {
        "colab": {
          "base_uri": "https://localhost:8080/",
          "height": 35
        },
        "id": "jS6hr7f1eRed",
        "outputId": "8949b321-a99e-4ea1-8928-16f63cdc436f"
      },
      "execution_count": 52,
      "outputs": [
        {
          "output_type": "execute_result",
          "data": {
            "text/plain": [
              "'hello python'"
            ],
            "application/vnd.google.colaboratory.intrinsic+json": {
              "type": "string"
            }
          },
          "metadata": {},
          "execution_count": 52
        }
      ]
    },
    {
      "cell_type": "code",
      "source": [
        "[1,3,5]*2"
      ],
      "metadata": {
        "colab": {
          "base_uri": "https://localhost:8080/"
        },
        "id": "g1oO1uSYeetN",
        "outputId": "8945024b-72bd-4599-85c3-c3b8736e175c"
      },
      "execution_count": 53,
      "outputs": [
        {
          "output_type": "execute_result",
          "data": {
            "text/plain": [
              "[1, 3, 5, 1, 3, 5]"
            ]
          },
          "metadata": {},
          "execution_count": 53
        }
      ]
    },
    {
      "cell_type": "code",
      "source": [
        "'★'*5"
      ],
      "metadata": {
        "colab": {
          "base_uri": "https://localhost:8080/",
          "height": 35
        },
        "id": "qnii0VjueiAr",
        "outputId": "118063a2-5e60-4e4b-82b4-4337ab7ca243"
      },
      "execution_count": 54,
      "outputs": [
        {
          "output_type": "execute_result",
          "data": {
            "text/plain": [
              "'★★★★★'"
            ],
            "application/vnd.google.colaboratory.intrinsic+json": {
              "type": "string"
            }
          },
          "metadata": {},
          "execution_count": 54
        }
      ]
    },
    {
      "cell_type": "code",
      "source": [
        "'-'*30"
      ],
      "metadata": {
        "colab": {
          "base_uri": "https://localhost:8080/",
          "height": 35
        },
        "id": "3tyTPGaReoTm",
        "outputId": "fa29cd4a-f161-4217-99b3-b2c6ab1cfb98"
      },
      "execution_count": 55,
      "outputs": [
        {
          "output_type": "execute_result",
          "data": {
            "text/plain": [
              "'------------------------------'"
            ],
            "application/vnd.google.colaboratory.intrinsic+json": {
              "type": "string"
            }
          },
          "metadata": {},
          "execution_count": 55
        }
      ]
    },
    {
      "cell_type": "code",
      "source": [
        "# 멤버쉽 연산자\n",
        "# 어떤 값이 지정된 컬렉션에 (리스트, 문자열, 딕셔너리) 속해 있는지\n",
        "# 여부를 판단하여 속해있으면 True 아니면 False로 반환\n",
        "\n",
        "print(5 in [1,2,3,4,5])\n",
        "6 in [1,2,3,4,5]"
      ],
      "metadata": {
        "colab": {
          "base_uri": "https://localhost:8080/"
        },
        "id": "QS3FbfHWesYZ",
        "outputId": "a1881f3b-ac32-405a-8222-a8f99123b7d3"
      },
      "execution_count": 58,
      "outputs": [
        {
          "output_type": "stream",
          "name": "stdout",
          "text": [
            "True\n"
          ]
        },
        {
          "output_type": "execute_result",
          "data": {
            "text/plain": [
              "False"
            ]
          },
          "metadata": {},
          "execution_count": 58
        }
      ]
    },
    {
      "cell_type": "code",
      "source": [
        "'n' not in 'apple'"
      ],
      "metadata": {
        "colab": {
          "base_uri": "https://localhost:8080/"
        },
        "id": "UR1KvZA7fSbh",
        "outputId": "1779a865-8435-4221-9c80-3a9c3de4df41"
      },
      "execution_count": 66,
      "outputs": [
        {
          "output_type": "execute_result",
          "data": {
            "text/plain": [
              "False"
            ]
          },
          "metadata": {},
          "execution_count": 66
        }
      ]
    },
    {
      "cell_type": "code",
      "source": [
        "# (3)삼항 연산자\n",
        "\n",
        "# 참 if  >>  조건식 >>   else 거짓\n",
        "\n",
        "1 if 1 > 2 else 2"
      ],
      "metadata": {
        "colab": {
          "base_uri": "https://localhost:8080/"
        },
        "id": "aWWHM0bGfqEc",
        "outputId": "05d14133-f435-4105-ecc7-7fa9ecc7ed11"
      },
      "execution_count": 70,
      "outputs": [
        {
          "output_type": "execute_result",
          "data": {
            "text/plain": [
              "2"
            ]
          },
          "metadata": {},
          "execution_count": 70
        }
      ]
    },
    {
      "cell_type": "code",
      "source": [
        "# p85 #1\n",
        "\n",
        "# 임의의 두 자리 정수(10~99)를 입력받아서 십의 자리와 일의 자리로 분리하여 출력하는 프로그램을 구현하세요.\n",
        "\n",
        "no = int(input('10~99 사이의 정수를 입력하세요>>>'))\n",
        "\n",
        "print(f'십의 자리 : {no//10}')\n",
        "print(f'일의 자리 : {no%10}')\n",
        "\n"
      ],
      "metadata": {
        "colab": {
          "base_uri": "https://localhost:8080/"
        },
        "id": "B33EIT7RjTx8",
        "outputId": "44a0e16f-4fb8-4492-945b-541c805c1ca5"
      },
      "execution_count": 75,
      "outputs": [
        {
          "output_type": "stream",
          "name": "stdout",
          "text": [
            "10~99 사이의 정수를 입력하세요>>>12\n",
            "십의 자리 : 1\n",
            "일의 자리 : 2\n"
          ]
        }
      ]
    },
    {
      "cell_type": "code",
      "source": [
        "# 임의의 두 자리 정수(10~99)를 입력받아서 십의 자리와 일의 자리로 분리하여 출력하는 프로그램을 구현하세요.\n",
        "\n",
        "no = int(input('10~99 사이의 정수를 입력하세요>>>'))\n",
        "\n",
        "print(f'십의 자리 : {no[0]}')\n",
        "print(f'일의 자리 : {no[1]}')"
      ],
      "metadata": {
        "id": "HzMD3SmolWak"
      },
      "execution_count": null,
      "outputs": []
    },
    {
      "cell_type": "code",
      "source": [
        "# 1분은 60초이고, 1시간은 60분입니다. 따라서 1시간은 3600초입니다. 임의의 초를 입력받아 해당 초를 시,분,초로 변환하여 출력하는 프로그램을 구현하세요.\n",
        "\n",
        "a = int(input('초를 입력하세요'))\n",
        "\n",
        "print(f'변환 결과는 {a//3600}시간 {(a%3600)//60}분 {a%60}초입니다.')\n"
      ],
      "metadata": {
        "colab": {
          "base_uri": "https://localhost:8080/"
        },
        "id": "0xAqmU44lay1",
        "outputId": "7b2c2bf6-7740-4614-c7f4-2e7a7b21a3b6"
      },
      "execution_count": 90,
      "outputs": [
        {
          "output_type": "stream",
          "name": "stdout",
          "text": [
            "초를 입력하세요12345\n",
            "변환 결과는 3시간 25분 45초입니다.\n"
          ]
        }
      ]
    },
    {
      "cell_type": "code",
      "source": [
        "a = int(input('4자리사원번호를 입력하세요>>>'))\n",
        "a_last = a%10\n",
        "is_am = a_last >= 5\n",
        "\n",
        "print(f'근무시간은 {(\"오전\"if is_am else \"오후\")}입니다.')\n"
      ],
      "metadata": {
        "colab": {
          "base_uri": "https://localhost:8080/"
        },
        "id": "ijfZfXigoVx1",
        "outputId": "70d11d81-c31d-4ef4-eb78-34b3e7dd2352"
      },
      "execution_count": 89,
      "outputs": [
        {
          "output_type": "stream",
          "name": "stdout",
          "text": [
            "4자리사원번호를 입력하세요>>>1255\n",
            "근무시간은 오전입니다.\n"
          ]
        }
      ]
    }
  ]
}