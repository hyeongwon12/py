{
  "nbformat": 4,
  "nbformat_minor": 0,
  "metadata": {
    "colab": {
      "name": "Py D-3.ipynb",
      "provenance": [],
      "authorship_tag": "ABX9TyOT6YM6IKPdlURJiRvXgA3B",
      "include_colab_link": true
    },
    "kernelspec": {
      "name": "python3",
      "display_name": "Python 3"
    },
    "language_info": {
      "name": "python"
    }
  },
  "cells": [
    {
      "cell_type": "markdown",
      "metadata": {
        "id": "view-in-github",
        "colab_type": "text"
      },
      "source": [
        "<a href=\"https://colab.research.google.com/github/hyeongwon12/py/blob/main/Py_D_3.ipynb\" target=\"_parent\"><img src=\"https://colab.research.google.com/assets/colab-badge.svg\" alt=\"Open In Colab\"/></a>"
      ]
    },
    {
      "cell_type": "code",
      "execution_count": 1,
      "metadata": {
        "colab": {
          "base_uri": "https://localhost:8080/"
        },
        "id": "CqM2K9dAGiam",
        "outputId": "e8ae9c09-0766-45bb-fcb6-39fe07d29f56"
      },
      "outputs": [
        {
          "output_type": "stream",
          "name": "stdout",
          "text": [
            "12345\n",
            "당신이 입력한 수는 12345입니다.\n"
          ]
        }
      ],
      "source": [
        "# p62 표준입력\n",
        "# input()함수는 키보드로 입력을 받을때 사용된다.\n",
        "\n",
        "n = input()\n",
        "print(f'당신이 입력한 수는 {n}입니다.')"
      ]
    },
    {
      "cell_type": "code",
      "source": [
        "name = input('이름을 입력하세요>>>')\n",
        "age = input('나이를입력하세요>>>')\n",
        "\n",
        "print(f'입력된 이름은{name}이고 나이는 {age}입니다')"
      ],
      "metadata": {
        "colab": {
          "base_uri": "https://localhost:8080/"
        },
        "id": "45ZaJK6_JSOf",
        "outputId": "c6620559-6773-40eb-edb2-71b4f1f40881"
      },
      "execution_count": 2,
      "outputs": [
        {
          "output_type": "stream",
          "name": "stdout",
          "text": [
            "이름을 입력하세요>>>조형원\n",
            "나이를입력하세요>>>27\n",
            "입력된 이름은조형원이고 나이는 27입니다\n"
          ]
        }
      ]
    },
    {
      "cell_type": "code",
      "source": [
        "#좋아하는 과일은?\n",
        "#당신이 좋아하는 과일은 ... ..입니다.\n",
        "\n",
        "fruit = input('좋아하는 과일은?')\n",
        "\n",
        "print(f'당신이 좋아하는 과일은 {fruit} 입니다')"
      ],
      "metadata": {
        "colab": {
          "base_uri": "https://localhost:8080/"
        },
        "id": "Ns9QCU5EKECq",
        "outputId": "ba4feeea-7098-4f3e-8a07-1085a2f7e4af"
      },
      "execution_count": 5,
      "outputs": [
        {
          "output_type": "stream",
          "name": "stdout",
          "text": [
            "좋아하는 과일은?오렌지\n",
            "당신이 좋아하는 과일은 오렌지 입니다\n"
          ]
        }
      ]
    },
    {
      "cell_type": "code",
      "source": [
        ""
      ],
      "metadata": {
        "id": "uAozZalUKkRG"
      },
      "execution_count": null,
      "outputs": []
    }
  ]
}