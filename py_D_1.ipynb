{
  "nbformat": 4,
  "nbformat_minor": 0,
  "metadata": {
    "colab": {
      "name": "py D-1.ipynb",
      "provenance": [],
      "collapsed_sections": [],
      "toc_visible": true,
      "authorship_tag": "ABX9TyP6ZBx6TITiCB2Cc35JX1hF",
      "include_colab_link": true
    },
    "kernelspec": {
      "name": "python3",
      "display_name": "Python 3"
    },
    "language_info": {
      "name": "python"
    }
  },
  "cells": [
    {
      "cell_type": "markdown",
      "metadata": {
        "id": "view-in-github",
        "colab_type": "text"
      },
      "source": [
        "<a href=\"https://colab.research.google.com/github/hyeongwon12/py/blob/main/py_D_1.ipynb\" target=\"_parent\"><img src=\"https://colab.research.google.com/assets/colab-badge.svg\" alt=\"Open In Colab\"/></a>"
      ]
    },
    {
      "cell_type": "code",
      "execution_count": 2,
      "metadata": {
        "cellView": "code",
        "id": "ibkhoanRcruE"
      },
      "outputs": [],
      "source": [
        "#@title 기본 제목 텍스트\n",
        "#파이썬이란???\n",
        "# 1. 인터프리터 언어이다. 한줄한줄 실행한 결과를 바로바로 볼수 있다.\n",
        "# 2. 플랫폼에 독립적이다. 맥 윈도우 리눅스... 전부 같은 파이썬 코드를 사용할수있다\n",
        "# 3. 객체지향 언어이다. 객체를 기반으로 정보은닉. 상속 등등의 개념을 지원한다.\n",
        "# 4. 동적 타이핑 언어이다. 실행 중에 처리할수 있는 작업을 동적 작업이라고 하고 파이썬은 이것을 지원한다.\n",
        "# 5. 개발 속도가 빠르다. 이미 만들어 놓은 다양한 라이브러리를 사용하여 빠르게 새로운 프로그램을 개발할수 있다.\n",
        "\n",
        "\n",
        "# 주석 comment\n",
        "# 프로그램의 소스 코드에 설명을 작성하는 부분을 주석이라고 한다.\n",
        "# DocString ''' 코드 설명  ''' \n",
        "# (Ctrl + /) 여러줄 주석\n",
        " \n"
      ]
    },
    {
      "cell_type": "code",
      "source": [
        "# 코드 위에 주석 달기\n",
        "print('Hello World')   # 코드 오른쪽에 주석달기"
      ],
      "metadata": {
        "id": "gYFC9Z2OrXgv"
      },
      "execution_count": null,
      "outputs": []
    },
    {
      "cell_type": "code",
      "source": [
        "# 변수...\n",
        "\n",
        "# variable  어떤 데이터를 저장할떄 사용하는 메모리 저장소이다.\n",
        "\n",
        "score = 100\n",
        "\n",
        "print(100)\n",
        "print(score)\n",
        "\n",
        "# 변수명 만드는 규칙\n",
        "\n",
        "# 1 영문 한글 숫자 밑줄로 구성된다.  (한글은 사용하지 말자)\n",
        "# 2 특수문자는 사용할수 없다. @#$%^&*\n",
        "# 3 대문자와 소문자를 구분한다. a = 1   A = 2\n",
        "# 4 변수명의 첫글자에는 숫자가 올수 없다. a1 = 1 (o)  1a = 2 (x)\n",
        "# 5 예약어, 키워드는 변수명으로 사용할수 없다. ex). print\n",
        "\n",
        "# * 가급적이면 소문자로만 만들자\n",
        "# * 한글 변수명은 가능하지만 사용하지 말자\n",
        "# * 변수명에 의미를 담자. a = 85  >>>> mathScore = 85"
      ],
      "metadata": {
        "colab": {
          "base_uri": "https://localhost:8080/"
        },
        "id": "utVp3loVrfkU",
        "outputId": "aa6b170b-25d3-46ab-fb11-76a23a577dad"
      },
      "execution_count": 39,
      "outputs": [
        {
          "output_type": "stream",
          "name": "stdout",
          "text": [
            "100\n",
            "100\n"
          ]
        }
      ]
    },
    {
      "cell_type": "code",
      "source": [
        "a = 1\n",
        "A = 2\n",
        "print(a)\n",
        "print(A)"
      ],
      "metadata": {
        "colab": {
          "base_uri": "https://localhost:8080/"
        },
        "id": "oDYDaNsstH0I",
        "outputId": "90559940-bbc4-40f7-9754-ef14d1d54ea3"
      },
      "execution_count": 22,
      "outputs": [
        {
          "output_type": "stream",
          "name": "stdout",
          "text": [
            "1\n",
            "2\n"
          ]
        }
      ]
    },
    {
      "cell_type": "code",
      "source": [
        "'''\n",
        "파일명: Ex02-1.py\n",
        "개요:반지름을 전달하면 원의 넓이를 반환하는 get_area()함수\n",
        "작성자:홍길동\n",
        "최초작성일\"2020-08-25\n",
        "'''\n",
        "\n",
        " #math 모듈 포함\n",
        "import math \n",
        "\n",
        " # get_area()함수의 정의\n",
        "def get_area(radius):\n",
        "   \"\"\"반지름을 입력받아 원의 넓이를 반환하는 get_area()함수\"\"\"\n",
        "   area=math.pi*math.pow(radius, 2)\n",
        "   return area\n",
        "\n",
        "   radius = 1.5\n",
        "   # get_area()함수 호출 결과를 area 변수에 저장\n",
        "   area = get_area(radius)\n",
        "   print(area)\n",
        "   print(get_area.__doc__) #Docstring 확인"
      ],
      "metadata": {
        "id": "c7SwSaTIpAbj"
      },
      "execution_count": 35,
      "outputs": []
    },
    {
      "cell_type": "code",
      "source": [
        "score = 100\n",
        "\n",
        "print(100)\n",
        "print(score)"
      ],
      "metadata": {
        "colab": {
          "base_uri": "https://localhost:8080/"
        },
        "id": "a_f6ZdiTua4M",
        "outputId": "5d8aba07-2f76-46ce-bc5a-2db789776178"
      },
      "execution_count": 38,
      "outputs": [
        {
          "output_type": "stream",
          "name": "stdout",
          "text": [
            "100\n",
            "100\n"
          ]
        }
      ]
    },
    {
      "cell_type": "code",
      "source": [
        "name = 'Alice'\n",
        "age = 25\n",
        "address = '''우편번호12345\n",
        "서울시 영등포구 여의도동\n",
        "서울빌딩 501호'''\n",
        "boyfriend = None\n",
        "height = 168.5\n",
        "\n",
        "print(name)\n",
        "print(age)\n",
        "print(address)\n",
        "print(boyfriend)\n",
        "print(height)"
      ],
      "metadata": {
        "colab": {
          "base_uri": "https://localhost:8080/"
        },
        "id": "Pvg2YsvFuhMd",
        "outputId": "bb0bad79-d43c-4e9a-9a21-241cfb690286"
      },
      "execution_count": 30,
      "outputs": [
        {
          "output_type": "stream",
          "name": "stdout",
          "text": [
            "Alice\n",
            "25\n",
            "우편번호12345\n",
            "서울시 영등포구 여의도동\n",
            "서울빌딩 501호\n",
            "None\n",
            "168.5\n"
          ]
        }
      ]
    },
    {
      "cell_type": "code",
      "source": [
        "# syntax error 문법오류\n",
        "# indentation error 들여쓰기오류"
      ],
      "metadata": {
        "id": "_wD3VU_Mv_Rh"
      },
      "execution_count": null,
      "outputs": []
    },
    {
      "cell_type": "code",
      "source": [
        "# 기본 자료형\n",
        "\n",
        "# 정수 int ( 1.1  >>>  1 )\n",
        "a = 3\n",
        "print(a)\n",
        "a = 3.14\n",
        "print(a)\n",
        "a = 'hello'\n",
        "print(a)\n"
      ],
      "metadata": {
        "colab": {
          "base_uri": "https://localhost:8080/"
        },
        "id": "_-pURL45y8rw",
        "outputId": "e6c5223b-698c-4a82-c15d-67cc4cf5533e"
      },
      "execution_count": 43,
      "outputs": [
        {
          "output_type": "stream",
          "name": "stdout",
          "text": [
            "3\n",
            "3.14\n",
            "hello\n"
          ]
        }
      ]
    },
    {
      "cell_type": "code",
      "source": [
        "int(1.9)"
      ],
      "metadata": {
        "colab": {
          "base_uri": "https://localhost:8080/"
        },
        "id": "RiB12bgOzpIL",
        "outputId": "405dbce3-c56c-454c-930e-6588d7b98ad4"
      },
      "execution_count": 44,
      "outputs": [
        {
          "output_type": "execute_result",
          "data": {
            "text/plain": [
              "1"
            ]
          },
          "metadata": {},
          "execution_count": 44
        }
      ]
    },
    {
      "cell_type": "code",
      "source": [
        "int(True)\n",
        "\n",
        "int(False)"
      ],
      "metadata": {
        "colab": {
          "base_uri": "https://localhost:8080/"
        },
        "id": "h4wds8720Fvy",
        "outputId": "f97c1233-0fe3-496c-f6ed-615305665ca3"
      },
      "execution_count": 47,
      "outputs": [
        {
          "output_type": "execute_result",
          "data": {
            "text/plain": [
              "0"
            ]
          },
          "metadata": {},
          "execution_count": 47
        }
      ]
    },
    {
      "cell_type": "code",
      "source": [
        "int('100')"
      ],
      "metadata": {
        "colab": {
          "base_uri": "https://localhost:8080/"
        },
        "id": "-afYQtXcz-5O",
        "outputId": "4e5ab2e1-f006-42d6-a113-3619162d96e5"
      },
      "execution_count": 45,
      "outputs": [
        {
          "output_type": "execute_result",
          "data": {
            "text/plain": [
              "100"
            ]
          },
          "metadata": {},
          "execution_count": 45
        }
      ]
    },
    {
      "cell_type": "code",
      "source": [
        "#실수 float ( 13 >>> 13.0 )"
      ],
      "metadata": {
        "colab": {
          "base_uri": "https://localhost:8080/"
        },
        "id": "PIdI1tLa0PgN",
        "outputId": "79b38eda-2132-4cc9-ce09-718d75ab5631"
      },
      "execution_count": 49,
      "outputs": [
        {
          "output_type": "execute_result",
          "data": {
            "text/plain": [
              "13.0"
            ]
          },
          "metadata": {},
          "execution_count": 49
        }
      ]
    },
    {
      "cell_type": "code",
      "source": [
        "float(True)"
      ],
      "metadata": {
        "colab": {
          "base_uri": "https://localhost:8080/"
        },
        "id": "O39PC6OW0qy9",
        "outputId": "2a933ea6-61c9-4aa9-e79c-f403ebe8966d"
      },
      "execution_count": 50,
      "outputs": [
        {
          "output_type": "execute_result",
          "data": {
            "text/plain": [
              "1.0"
            ]
          },
          "metadata": {},
          "execution_count": 50
        }
      ]
    },
    {
      "cell_type": "code",
      "source": [
        "# 논리\n",
        "bool(1)"
      ],
      "metadata": {
        "colab": {
          "base_uri": "https://localhost:8080/"
        },
        "id": "tt_6BiCI0q4t",
        "outputId": "92327d51-5e68-464a-f8a2-022d6479a427"
      },
      "execution_count": 53,
      "outputs": [
        {
          "output_type": "execute_result",
          "data": {
            "text/plain": [
              "True"
            ]
          },
          "metadata": {},
          "execution_count": 53
        }
      ]
    },
    {
      "cell_type": "code",
      "source": [
        "bool(0)"
      ],
      "metadata": {
        "colab": {
          "base_uri": "https://localhost:8080/"
        },
        "id": "00ZOJmbm0497",
        "outputId": "be2b0f6b-f91d-4207-ffb4-d52080d44a37"
      },
      "execution_count": 54,
      "outputs": [
        {
          "output_type": "execute_result",
          "data": {
            "text/plain": [
              "False"
            ]
          },
          "metadata": {},
          "execution_count": 54
        }
      ]
    },
    {
      "cell_type": "code",
      "source": [
        "# 문자열 string   (100  >>> '100')\n",
        "str(100)"
      ],
      "metadata": {
        "colab": {
          "base_uri": "https://localhost:8080/",
          "height": 35
        },
        "id": "5o_HihIE1AMg",
        "outputId": "1064f03b-dfcc-4ba5-b2d3-fc2ea322223f"
      },
      "execution_count": 55,
      "outputs": [
        {
          "output_type": "execute_result",
          "data": {
            "text/plain": [
              "'100'"
            ],
            "application/vnd.google.colaboratory.intrinsic+json": {
              "type": "string"
            }
          },
          "metadata": {},
          "execution_count": 55
        }
      ]
    },
    {
      "cell_type": "code",
      "source": [
        "# 인덱싱    몇번째 한글자\n",
        "\n",
        "s = 'Hello'\n",
        "s[0]\n",
        "#  H e l l o\n",
        "#  0 1 2 3 4   index \n",
        "# -5-4-3-2-1"
      ],
      "metadata": {
        "colab": {
          "base_uri": "https://localhost:8080/",
          "height": 35
        },
        "id": "gHJTn9B91alr",
        "outputId": "05f892ac-181a-43de-d425-e7d4342bffa2"
      },
      "execution_count": 62,
      "outputs": [
        {
          "output_type": "execute_result",
          "data": {
            "text/plain": [
              "'H'"
            ],
            "application/vnd.google.colaboratory.intrinsic+json": {
              "type": "string"
            }
          },
          "metadata": {},
          "execution_count": 62
        }
      ]
    },
    {
      "cell_type": "code",
      "source": [
        "s[-4]"
      ],
      "metadata": {
        "colab": {
          "base_uri": "https://localhost:8080/",
          "height": 35
        },
        "id": "gjrfULmo2YFE",
        "outputId": "5f543f8a-c388-4258-91d9-d01fa95dedbb"
      },
      "execution_count": 65,
      "outputs": [
        {
          "output_type": "execute_result",
          "data": {
            "text/plain": [
              "'e'"
            ],
            "application/vnd.google.colaboratory.intrinsic+json": {
              "type": "string"
            }
          },
          "metadata": {},
          "execution_count": 65
        }
      ]
    },
    {
      "cell_type": "code",
      "source": [
        "# 슬라이싱   몇번째부터 몇번째 여러글자\n",
        "s = 'Hello'\n",
        "# s[0:2]  # !!!![시작:끝(미만)]!!!!\n",
        "# s[0:]   # 끝을 생략하면 끝까지\n",
        "s[:-1]  # 시작을 생략하면 \n"
      ],
      "metadata": {
        "colab": {
          "base_uri": "https://localhost:8080/",
          "height": 35
        },
        "id": "b9DcpC6_3OzZ",
        "outputId": "2b4af603-762c-49db-eecc-f71a90971eaf"
      },
      "execution_count": 76,
      "outputs": [
        {
          "output_type": "execute_result",
          "data": {
            "text/plain": [
              "'Hell'"
            ],
            "application/vnd.google.colaboratory.intrinsic+json": {
              "type": "string"
            }
          },
          "metadata": {},
          "execution_count": 76
        }
      ]
    },
    {
      "cell_type": "code",
      "source": [
        "# 5자리로 구성된학번 '31025'\n",
        "# 학년 반, 번호 로 분리해보자\n",
        "# 3\n",
        "# 10\n",
        "# 25\n",
        "no = '31025'\n",
        "\n",
        "print(no[0])\n",
        "print(no[1:3])\n",
        "print(no[3:])"
      ],
      "metadata": {
        "colab": {
          "base_uri": "https://localhost:8080/"
        },
        "id": "HQH8XQc34MsW",
        "outputId": "f596a004-8f8a-45c9-a8d8-55960d721f2a"
      },
      "execution_count": 77,
      "outputs": [
        {
          "output_type": "stream",
          "name": "stdout",
          "text": [
            "3\n",
            "10\n",
            "25\n"
          ]
        }
      ]
    }
  ]
}