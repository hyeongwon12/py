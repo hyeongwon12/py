{
  "nbformat": 4,
  "nbformat_minor": 0,
  "metadata": {
    "colab": {
      "name": "py D-4.ipynb",
      "provenance": [],
      "collapsed_sections": [],
      "authorship_tag": "ABX9TyOSLVffZGSntuFQh1Rx7VLC",
      "include_colab_link": true
    },
    "kernelspec": {
      "name": "python3",
      "display_name": "Python 3"
    },
    "language_info": {
      "name": "python"
    }
  },
  "cells": [
    {
      "cell_type": "markdown",
      "metadata": {
        "id": "view-in-github",
        "colab_type": "text"
      },
      "source": [
        "<a href=\"https://colab.research.google.com/github/hyeongwon12/py/blob/main/py_D_4.ipynb\" target=\"_parent\"><img src=\"https://colab.research.google.com/assets/colab-badge.svg\" alt=\"Open In Colab\"/></a>"
      ]
    },
    {
      "cell_type": "code",
      "execution_count": null,
      "metadata": {
        "colab": {
          "base_uri": "https://localhost:8080/"
        },
        "id": "SB_aFDctaB59",
        "outputId": "07c18297-5c21-46d6-ef70-337f868489aa"
      },
      "outputs": [
        {
          "output_type": "stream",
          "name": "stdout",
          "text": [
            "양수\n",
            "양수\n"
          ]
        }
      ],
      "source": [
        "# PythonDay4.ipynb\n",
        "\n",
        "# page 90\n",
        "\n",
        "# 조건문\n",
        "\n",
        "# if - 특정 조건을 만족하는지 여부에따라 실행하는 코드가 달라져야 할때 사용된다.\n",
        "\n",
        "a = 5\n",
        "if a > 0:\n",
        "  print('양수')\n",
        "if True:\n",
        "  print('양수')\n",
        "  "
      ]
    },
    {
      "cell_type": "code",
      "source": [
        "# if - else\n",
        "\n",
        "a = -1\n",
        "if a >= 0:\n",
        " print('양수')\n",
        "else:\n",
        " print('음수') "
      ],
      "metadata": {
        "colab": {
          "base_uri": "https://localhost:8080/"
        },
        "id": "oigMuageeWn1",
        "outputId": "e0b1d82e-cc73-4012-f440-525be96f7e7b"
      },
      "execution_count": null,
      "outputs": [
        {
          "output_type": "stream",
          "name": "stdout",
          "text": [
            "음수\n"
          ]
        }
      ]
    },
    {
      "cell_type": "code",
      "source": [
        "age = int(input('몇 살입니까?>>>'))\n",
        "if age >=20:\n",
        "  print('성인')\n",
        "else:\n",
        "  print('미성년자')\n"
      ],
      "metadata": {
        "colab": {
          "base_uri": "https://localhost:8080/"
        },
        "id": "FDjzChiZfggv",
        "outputId": "d3aa8636-4def-4c2b-abbd-01377f647ec1"
      },
      "execution_count": null,
      "outputs": [
        {
          "output_type": "stream",
          "name": "stdout",
          "text": [
            "몇 살입니까?>>>12\n",
            "미성년자\n"
          ]
        }
      ]
    },
    {
      "cell_type": "code",
      "source": [
        "# if - elif\n",
        "\n",
        "important = 90\n",
        "\n",
        "if important >= 100:\n",
        "  print('상')\n",
        "else:\n",
        "  if important >= 50:\n",
        "    print('중')\n",
        "  else:\n",
        "    print('하')\n",
        "\n",
        "#=========================\n",
        "\n",
        "if important >= 100:\n",
        "  print('상')\n",
        "elif important >= 50:\n",
        "    print('중')\n",
        "else:\n",
        "    print('하')"
      ],
      "metadata": {
        "colab": {
          "base_uri": "https://localhost:8080/"
        },
        "id": "xoQnElH4f_TJ",
        "outputId": "5c5ea6b9-b1f9-4f63-aea7-94bcf9103fd5"
      },
      "execution_count": null,
      "outputs": [
        {
          "output_type": "stream",
          "name": "stdout",
          "text": [
            "중\n"
          ]
        }
      ]
    },
    {
      "cell_type": "code",
      "source": [
        "socre = 40\n",
        "if score >= 90:\n",
        "  print('A')\n",
        "elif score >= 80:\n",
        "  print('B')\n",
        "elif score >= 70:\n",
        "  print('C')\n",
        "elif score >= 60:\n",
        "  print('D')\n",
        "else:\n",
        "  print('F')"
      ],
      "metadata": {
        "colab": {
          "base_uri": "https://localhost:8080/"
        },
        "id": "wgbK0txNhCYm",
        "outputId": "4afb470e-0ee7-49c0-a999-c04fc0bfe3f6"
      },
      "execution_count": null,
      "outputs": [
        {
          "output_type": "stream",
          "name": "stdout",
          "text": [
            "A\n"
          ]
        }
      ]
    },
    {
      "cell_type": "code",
      "source": [
        "score = int(input('정수를 입력하세요>>>'))\n",
        "\n",
        "if score >=90:\n",
        "  print(f'학점은 A학점입니다.')\n",
        "elif score >=80:\n",
        "  print(f'학점은 B학점입니다.')\n",
        "elif score >=70:\n",
        " print(f'학점은 C학점입니다.')\n",
        "elif score >=60:\n",
        "  print(f'학점은 D학점입니다.')\n",
        "else:\n",
        "  print(f'학점은 F학점입니다.')\n"
      ],
      "metadata": {
        "colab": {
          "base_uri": "https://localhost:8080/"
        },
        "id": "ulzzQ7riiN3t",
        "outputId": "e899ac72-2213-492f-9083-0fa39862846f"
      },
      "execution_count": null,
      "outputs": [
        {
          "output_type": "stream",
          "name": "stdout",
          "text": [
            "정수를 입력하세요>>>15\n",
            "학점은 F학점입니다.\n"
          ]
        }
      ]
    },
    {
      "cell_type": "code",
      "source": [
        "score = int(input('정수를 입력하세요>>>'))\n",
        "\n",
        "if score >=90:\n",
        "  result = 'A'\n",
        "elif score >=80:\n",
        "  result = 'B'\n",
        "elif score >=70:\n",
        " result = 'C'\n",
        "elif score >=60:\n",
        " result = 'D'\n",
        "else:\n",
        " result = 'F'\n",
        "print(f'점수는{score}이고, 학점은{result} 입니다.')\n"
      ],
      "metadata": {
        "colab": {
          "base_uri": "https://localhost:8080/"
        },
        "id": "5Xb-Pmoyl5jw",
        "outputId": "d0ba5ff1-1138-4cca-f09c-d2086e9baf9b"
      },
      "execution_count": null,
      "outputs": [
        {
          "output_type": "stream",
          "name": "stdout",
          "text": [
            "정수를 입력하세요>>>1231421\n",
            "점수는1231421이고, 학점은A 입니다.\n"
          ]
        }
      ]
    },
    {
      "cell_type": "code",
      "source": [
        "no = int(input('정수를 입력하세요 >>>'))\n",
        "T = no%3 \n",
        "if T != 0: \n",
        "  print(f'{no}는 3의 배수가 아닙니다.')\n",
        "else: print(f\"{no}는3의 배수 입니다\")"
      ],
      "metadata": {
        "colab": {
          "base_uri": "https://localhost:8080/"
        },
        "id": "upsgfy9Bi9jr",
        "outputId": "b8be3423-40c6-48d8-ac77-a5a1a3372b01"
      },
      "execution_count": null,
      "outputs": [
        {
          "output_type": "stream",
          "name": "stdout",
          "text": [
            "정수를 입력하세요 >>>45\n",
            "45는3의 배수 입니다\n"
          ]
        }
      ]
    },
    {
      "cell_type": "code",
      "source": [
        "no = int(input('정수를 입력하세요 >>>'))\n",
        "T = no%3 \n",
        "if T ==0: \n",
        "  print(f'{no}는 3의 배수 입니다.')\n",
        "else: print(f\"{no}는3의 배수가 아닙니다\")"
      ],
      "metadata": {
        "id": "VA1I3E5KozCY"
      },
      "execution_count": null,
      "outputs": []
    },
    {
      "cell_type": "code",
      "source": [
        "no1 = int(input('정수1입력'))\n",
        "no2 = int(input('정수2입력'))\n",
        "no3 = int(input('정수3입력'))\n",
        "\n",
        "if no1 > no2 and no2 > no3:\n",
        "  result = no1\n",
        "elif no3 > no2 and no2 > no1:\n",
        "  result = no3\n",
        "else:\n",
        "  result = no2\n",
        "print(f'가장큰수는{result}입니다.')\n",
        "  "
      ],
      "metadata": {
        "colab": {
          "base_uri": "https://localhost:8080/"
        },
        "id": "4DqInr5-kaIJ",
        "outputId": "23626aec-9a20-4511-b1ed-fe8b48c4a11a"
      },
      "execution_count": null,
      "outputs": [
        {
          "output_type": "stream",
          "name": "stdout",
          "text": [
            "정수1입력3\n",
            "정수2입력3\n",
            "정수3입력2\n",
            "가장큰수는3입니다.\n"
          ]
        }
      ]
    },
    {
      "cell_type": "code",
      "source": [
        "no1 = int(input('정수1입력'))\n",
        "no2 = int(input('정수2입력'))\n",
        "no3 = int(input('정수3입력'))\n",
        "\n",
        "print(f'가장큰수는{max(no1,no2,no3)}')"
      ],
      "metadata": {
        "colab": {
          "base_uri": "https://localhost:8080/"
        },
        "id": "q6IWKghRrhKB",
        "outputId": "d693056c-2838-428d-b18b-80d2b4dd67de"
      },
      "execution_count": null,
      "outputs": [
        {
          "output_type": "stream",
          "name": "stdout",
          "text": [
            "정수1입력3\n",
            "정수2입력3\n",
            "정수3입력2\n",
            "가장큰수는3\n"
          ]
        }
      ]
    },
    {
      "cell_type": "code",
      "source": [
        "num = input('차량번호를 입력하세요 >>>')\n",
        "\n",
        "n = int(num[-1])\n",
        "if n % 2 == 0:\n",
        "  result = '운행가능'\n",
        "else:\n",
        "  result = '운행불가'\n",
        "print(f\"'차량번호{num}'는 {result}입니다.\")"
      ],
      "metadata": {
        "colab": {
          "base_uri": "https://localhost:8080/"
        },
        "id": "zXfLx8YwrtZg",
        "outputId": "cf07a63b-39c0-446a-f715-7b542cad3010"
      },
      "execution_count": null,
      "outputs": [
        {
          "output_type": "stream",
          "name": "stdout",
          "text": [
            "차량번호를 입력하세요 >>>123rk1234\n",
            "'차량번호123rk1234'는 운행가능입니다.\n"
          ]
        }
      ]
    },
    {
      "cell_type": "code",
      "source": [
        "# 반복문\n",
        "# while = 반복횟수를 정확히 모를 때             해질때까지 운동장을 돌자\n",
        "# for = 반복횟수를 정확히 알 때 (★★★★★)    운동장을 10바퀴 돌자\n",
        "\n",
        "#while True:\n",
        "#  print('hello python')\n",
        "\n",
        "n = 1\n",
        "while n <=10:\n",
        "   print(f'{n}:hello world')\n",
        "   n+=1"
      ],
      "metadata": {
        "colab": {
          "base_uri": "https://localhost:8080/"
        },
        "id": "_3Muk6Avvlix",
        "outputId": "c4a2ed19-bec9-4153-9974-b32faef162a3"
      },
      "execution_count": null,
      "outputs": [
        {
          "output_type": "stream",
          "name": "stdout",
          "text": [
            "1:hello world\n",
            "2:hello world\n",
            "3:hello world\n",
            "4:hello world\n",
            "5:hello world\n",
            "6:hello world\n",
            "7:hello world\n",
            "8:hello world\n",
            "9:hello world\n",
            "10:hello world\n"
          ]
        }
      ]
    },
    {
      "cell_type": "code",
      "source": [
        "n = 10\n",
        "while n>=1:\n",
        "  print(n)\n",
        "  n-=1"
      ],
      "metadata": {
        "colab": {
          "base_uri": "https://localhost:8080/"
        },
        "id": "fujQEBrL2OKE",
        "outputId": "dd2ab910-b3d4-4fa0-e160-7912bdf08a5d"
      },
      "execution_count": null,
      "outputs": [
        {
          "output_type": "stream",
          "name": "stdout",
          "text": [
            "10\n",
            "9\n",
            "8\n",
            "7\n",
            "6\n",
            "5\n",
            "4\n",
            "3\n",
            "2\n",
            "1\n"
          ]
        }
      ]
    },
    {
      "cell_type": "code",
      "source": [
        "my_list = []\n",
        "\n",
        "n = int(input('정수를 입력하세요(종료는 0입니다.>>>'))\n",
        "\n",
        "while n != 0:\n",
        "  my_list.append(n)\n",
        "  n = int(input('정수를 입력하세요(종료는 0입니다.>>>'))\n",
        "  \n",
        "print(my_list)"
      ],
      "metadata": {
        "colab": {
          "base_uri": "https://localhost:8080/"
        },
        "id": "JDjJtICm2kVZ",
        "outputId": "2a808d34-6bfd-4d5b-ce6e-335b42b0881a"
      },
      "execution_count": null,
      "outputs": [
        {
          "output_type": "stream",
          "name": "stdout",
          "text": [
            "정수를 입력하세요(종료는 0입니다.>>>4\n",
            "정수를 입력하세요(종료는 0입니다.>>>5\n",
            "정수를 입력하세요(종료는 0입니다.>>>6\n",
            "정수를 입력하세요(종료는 0입니다.>>>2\n",
            "정수를 입력하세요(종료는 0입니다.>>>0\n",
            "[4, 5, 6, 2]\n"
          ]
        }
      ]
    },
    {
      "cell_type": "code",
      "source": [
        "day = 1\n",
        "while day <= 5:\n",
        "  hour = 1\n",
        "  while hour <=3:\n",
        "   print(day,'일차',hour ,'시간')\n",
        "   hour += 1 \n",
        "  day += 1"
      ],
      "metadata": {
        "colab": {
          "base_uri": "https://localhost:8080/"
        },
        "id": "AAc8UnVvzkBG",
        "outputId": "c05558db-becc-48cc-b273-f7ee5763ed37"
      },
      "execution_count": null,
      "outputs": [
        {
          "output_type": "stream",
          "name": "stdout",
          "text": [
            "1 일차 1 시간\n",
            "1 일차 2 시간\n",
            "1 일차 3 시간\n",
            "2 일차 1 시간\n",
            "2 일차 2 시간\n",
            "2 일차 3 시간\n",
            "3 일차 1 시간\n",
            "3 일차 2 시간\n",
            "3 일차 3 시간\n",
            "4 일차 1 시간\n",
            "4 일차 2 시간\n",
            "4 일차 3 시간\n",
            "5 일차 1 시간\n",
            "5 일차 2 시간\n",
            "5 일차 3 시간\n"
          ]
        }
      ]
    },
    {
      "cell_type": "code",
      "source": [
        "dan = 2\n",
        "while dan <= 9:\n",
        "  n = 1\n",
        "  while n <=9:\n",
        "    print(f'{dan}*{n}={dan*n}')\n",
        "    n+=1\n",
        "  dan += 1"
      ],
      "metadata": {
        "id": "o_HIsqhS4vYK"
      },
      "execution_count": null,
      "outputs": []
    },
    {
      "cell_type": "code",
      "source": [
        "n = int(input('정수를 입력하세요>>>'))\n",
        "a = 1\n",
        "if n<=0:\n",
        "  print('잘못된 입력입니다.')\n",
        "else:\n",
        "  while a <= n:\n",
        "    print(f'{a}번째 Hello')\n",
        "    a+=1\n",
        " \n"
      ],
      "metadata": {
        "id": "g1Hfx71V97I1"
      },
      "execution_count": null,
      "outputs": []
    },
    {
      "cell_type": "code",
      "source": [
        "\n",
        "no = int(input('정수를 입력하세요 >>>'))\n",
        "cnt = 1\n",
        "\n",
        "if no <= 0:\n",
        "  print('잘못된 입력입니다.')\n",
        "else:\n",
        "  while cnt <= no:\n",
        "    print(f'{cnt}번째 Hello')\n",
        "    cnt += 1"
      ],
      "metadata": {
        "id": "xNsZ96GECach"
      },
      "execution_count": null,
      "outputs": []
    },
    {
      "cell_type": "code",
      "source": [
        "n = 1\n",
        "while n <= 100:\n",
        "  if n%7==0:\n",
        "   print(n)\n",
        "  n+=1\n",
        " "
      ],
      "metadata": {
        "colab": {
          "base_uri": "https://localhost:8080/"
        },
        "id": "1SdBfjxz-x00",
        "outputId": "0310158a-c4bf-46d0-ae1f-3a6c4cd1ffc4"
      },
      "execution_count": null,
      "outputs": [
        {
          "output_type": "stream",
          "name": "stdout",
          "text": [
            "7\n",
            "14\n",
            "21\n",
            "28\n",
            "35\n",
            "42\n",
            "49\n",
            "56\n",
            "63\n",
            "70\n",
            "77\n",
            "84\n",
            "91\n",
            "98\n"
          ]
        }
      ]
    }
  ]
}