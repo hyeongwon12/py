{
  "nbformat": 4,
  "nbformat_minor": 0,
  "metadata": {
    "colab": {
      "name": "py D-5.ipynb",
      "provenance": [],
      "authorship_tag": "ABX9TyMpZoesUcJWtozIYuYCipO3",
      "include_colab_link": true
    },
    "kernelspec": {
      "name": "python3",
      "display_name": "Python 3"
    },
    "language_info": {
      "name": "python"
    }
  },
  "cells": [
    {
      "cell_type": "markdown",
      "metadata": {
        "id": "view-in-github",
        "colab_type": "text"
      },
      "source": [
        "<a href=\"https://colab.research.google.com/github/hyeongwon12/py/blob/main/py_D_5.ipynb\" target=\"_parent\"><img src=\"https://colab.research.google.com/assets/colab-badge.svg\" alt=\"Open In Colab\"/></a>"
      ]
    },
    {
      "cell_type": "code",
      "execution_count": 2,
      "metadata": {
        "colab": {
          "base_uri": "https://localhost:8080/"
        },
        "id": "KaaIpIUx5fd2",
        "outputId": "4d09bb2e-f33d-4d29-ae5e-91d5cf3b48d1"
      },
      "outputs": [
        {
          "output_type": "stream",
          "name": "stdout",
          "text": [
            "1\n",
            "2\n",
            "3\n"
          ]
        }
      ],
      "source": [
        "# p116 for문\n",
        "\n",
        "for n in [1,2,3]:\n",
        "  print(n)"
      ]
    },
    {
      "cell_type": "code",
      "source": [
        "n = 1\n",
        "while n in [1,2,3]:\n",
        " print(n)\n",
        " n+=1\n",
        " "
      ],
      "metadata": {
        "colab": {
          "base_uri": "https://localhost:8080/"
        },
        "id": "romqriIbLrCZ",
        "outputId": "4b84ddb9-ecaf-433a-f2ed-942a4dce86c1"
      },
      "execution_count": 7,
      "outputs": [
        {
          "output_type": "stream",
          "name": "stdout",
          "text": [
            "1\n",
            "2\n",
            "3\n"
          ]
        }
      ]
    },
    {
      "cell_type": "code",
      "source": [
        "# 반복 가능 객체 (컬렉션)\n",
        "# 시퀀스 자료형 - 문자열 리스트 튜플 range\n",
        "# 비시퀀스 자료형 -셋 딕셔너리 (순서가 없다.)\n",
        "\n",
        "for i in 'Hello':\n",
        "  print(i)"
      ],
      "metadata": {
        "colab": {
          "base_uri": "https://localhost:8080/"
        },
        "id": "IwBQ4xgTMzy8",
        "outputId": "79949591-5a80-4068-8910-9fc73e04cffb"
      },
      "execution_count": 8,
      "outputs": [
        {
          "output_type": "stream",
          "name": "stdout",
          "text": [
            "H\n",
            "e\n",
            "l\n",
            "l\n",
            "o\n"
          ]
        }
      ]
    },
    {
      "cell_type": "code",
      "source": [
        "for item in ['가위','바위','보']:\n",
        "  print(item)"
      ],
      "metadata": {
        "colab": {
          "base_uri": "https://localhost:8080/"
        },
        "id": "A2481ObVNQlS",
        "outputId": "bcdeb914-c996-48b3-a050-dd4297a9fd88"
      },
      "execution_count": 9,
      "outputs": [
        {
          "output_type": "stream",
          "name": "stdout",
          "text": [
            "가위\n",
            "바위\n",
            "보\n"
          ]
        }
      ]
    },
    {
      "cell_type": "code",
      "source": [
        "# for 문과 tuple\n",
        "for season in ('Spring', 'Summer', 'Fall', 'Winter'): \n",
        " print(season)"
      ],
      "metadata": {
        "colab": {
          "base_uri": "https://localhost:8080/"
        },
        "id": "bTOB_wyQNnKz",
        "outputId": "f92e8987-3246-4fa9-a307-a48d151481b8"
      },
      "execution_count": 11,
      "outputs": [
        {
          "output_type": "stream",
          "name": "stdout",
          "text": [
            "Spring\n",
            "Summer\n",
            "Fall\n",
            "Winter\n"
          ]
        }
      ]
    },
    {
      "cell_type": "code",
      "source": [
        "# for문 과 range()\n",
        "\n",
        "for i in range(5):            # 0부터 5미만까지\n",
        " print(i)"
      ],
      "metadata": {
        "colab": {
          "base_uri": "https://localhost:8080/"
        },
        "id": "E9dhkRGMN-GF",
        "outputId": "f6db3278-0a9e-4968-c26d-a20772b9c6ae"
      },
      "execution_count": 12,
      "outputs": [
        {
          "output_type": "stream",
          "name": "stdout",
          "text": [
            "0\n",
            "1\n",
            "2\n",
            "3\n",
            "4\n"
          ]
        }
      ]
    },
    {
      "cell_type": "code",
      "source": [
        "print(list(range(2,10)))"
      ],
      "metadata": {
        "colab": {
          "base_uri": "https://localhost:8080/"
        },
        "id": "pWS6LGqFOvwi",
        "outputId": "0ae281f3-3263-4404-b84d-27439c5bcf92"
      },
      "execution_count": 13,
      "outputs": [
        {
          "output_type": "stream",
          "name": "stdout",
          "text": [
            "[2, 3, 4, 5, 6, 7, 8, 9]\n"
          ]
        }
      ]
    },
    {
      "cell_type": "code",
      "source": [
        "for n in [1,2,3,4,5,6,7,8,9,10]:\n",
        "  print(n)"
      ],
      "metadata": {
        "colab": {
          "base_uri": "https://localhost:8080/"
        },
        "id": "_ycqs6xhO0sx",
        "outputId": "c8ba9615-5b81-40f1-fd9b-6e05db726688"
      },
      "execution_count": 14,
      "outputs": [
        {
          "output_type": "stream",
          "name": "stdout",
          "text": [
            "1\n",
            "2\n",
            "3\n",
            "4\n",
            "5\n",
            "6\n",
            "7\n",
            "8\n",
            "9\n",
            "10\n"
          ]
        }
      ]
    },
    {
      "cell_type": "code",
      "source": [
        "# for문 과 set\n",
        "for item in {'가위', '바위','보'}:\n",
        "  print(item)"
      ],
      "metadata": {
        "colab": {
          "base_uri": "https://localhost:8080/"
        },
        "id": "vTNsx2QUPPrU",
        "outputId": "101bc45e-ad4b-4d48-be9f-7258860cd145"
      },
      "execution_count": 15,
      "outputs": [
        {
          "output_type": "stream",
          "name": "stdout",
          "text": [
            "보\n",
            "바위\n",
            "가위\n"
          ]
        }
      ]
    },
    {
      "cell_type": "code",
      "source": [
        "# for문 과 dict\n",
        "\n",
        "person = {\n",
        "    'name':'에밀리',\n",
        "    'age':20\n",
        "}\n",
        "for item in person:\n",
        "  print(item,person[item])"
      ],
      "metadata": {
        "colab": {
          "base_uri": "https://localhost:8080/"
        },
        "id": "edFkbs6XPqtn",
        "outputId": "91f053c5-c666-46c3-92c1-1a0a55b38a8e"
      },
      "execution_count": 17,
      "outputs": [
        {
          "output_type": "stream",
          "name": "stdout",
          "text": [
            "name 에밀리\n",
            "age 20\n"
          ]
        }
      ]
    },
    {
      "cell_type": "code",
      "source": [
        "# 129\n",
        "n = int(input('임의의 양수를 입력하세요>>>'))\n",
        "result = 0\n",
        "for i in range(1,n+1):\n",
        "  result+=i\n",
        "print(sum)"
      ],
      "metadata": {
        "colab": {
          "base_uri": "https://localhost:8080/"
        },
        "id": "kUUjCS82QR3n",
        "outputId": "eceab6d1-102d-4488-a909-3b1e13a0d281"
      },
      "execution_count": 26,
      "outputs": [
        {
          "output_type": "stream",
          "name": "stdout",
          "text": [
            "임의의 양수를 입력하세요>>>4\n",
            "15\n"
          ]
        }
      ]
    },
    {
      "cell_type": "code",
      "source": [
        "ea = int(input('몇 개의 과일을 보관할까요?>>>'))\n",
        "basket = []\n",
        "\n",
        "\n",
        "for i in range(ea):\n",
        "  fruit = input(f'{i+1}번째 과일을 입력하세요')\n",
        "  basket.append(fruit)\n",
        "print(f'입력받은 과일들은 {basket} 입니다.')"
      ],
      "metadata": {
        "colab": {
          "base_uri": "https://localhost:8080/"
        },
        "id": "uiV0Vf1mR-UX",
        "outputId": "44d25ce4-ef66-4e24-e4e9-aff511161624"
      },
      "execution_count": 30,
      "outputs": [
        {
          "output_type": "stream",
          "name": "stdout",
          "text": [
            "몇 개의 과일을 보관할까요?>>>3\n",
            "1번째 과일을 입력하세요a\n",
            "2번째 과일을 입력하세요\n",
            "3번째 과일을 입력하세요c\n",
            "입력받은 과일들은 ['a', '', 'c'] 입니다.\n"
          ]
        }
      ]
    },
    {
      "cell_type": "code",
      "source": [
        "# p.134 break\n",
        "\n",
        "n = 1\n",
        "while n<=10:\n",
        "  print(n)\n",
        "  n+=1"
      ],
      "metadata": {
        "colab": {
          "base_uri": "https://localhost:8080/"
        },
        "id": "ws-HZGLQTz9Q",
        "outputId": "bf6915e7-581a-41a8-b06c-744a776c15c9"
      },
      "execution_count": 36,
      "outputs": [
        {
          "output_type": "stream",
          "name": "stdout",
          "text": [
            "1\n",
            "2\n",
            "3\n",
            "4\n",
            "5\n",
            "6\n",
            "7\n",
            "8\n",
            "9\n",
            "10\n"
          ]
        }
      ]
    },
    {
      "cell_type": "code",
      "source": [
        "n = 1\n",
        "while True:\n",
        "  print(n)\n",
        "  if n == 10:\n",
        "    break\n",
        "  n+=1"
      ],
      "metadata": {
        "colab": {
          "base_uri": "https://localhost:8080/"
        },
        "id": "RgO0-rQnUkbD",
        "outputId": "0e4d6018-4983-4d7b-e64e-95516d0627d4"
      },
      "execution_count": 37,
      "outputs": [
        {
          "output_type": "stream",
          "name": "stdout",
          "text": [
            "1\n",
            "2\n",
            "3\n",
            "4\n",
            "5\n",
            "6\n",
            "7\n",
            "8\n",
            "9\n",
            "10\n"
          ]
        }
      ]
    },
    {
      "cell_type": "code",
      "source": [
        "# 138p Countinue\n",
        "\n",
        "total = 0\n",
        "for a in range(1,101):\n",
        "  if a%3 == 0:\n",
        "    continue\n",
        "  total+=a\n",
        "print(total)"
      ],
      "metadata": {
        "colab": {
          "base_uri": "https://localhost:8080/"
        },
        "id": "dYtVBpi1U368",
        "outputId": "7d207241-b088-4b66-c124-e91535f136e1"
      },
      "execution_count": 38,
      "outputs": [
        {
          "output_type": "stream",
          "name": "stdout",
          "text": [
            "3367\n"
          ]
        }
      ]
    },
    {
      "cell_type": "code",
      "source": [
        "money = 10000\n",
        "\n",
        "While Ture:\n",
        "M = int(input('사용할 금액 입력>>>'))\n",
        " if money == 0:\n",
        " break\n",
        "if M <=0:\n",
        " print(f'0이하의 금액은 사용할 수 없습니다.')\n",
        "\n",
        "elif money-M<0:\n",
        " print(f'{money-M}원이 부족합니다.')\n",
        "\n",
        "else:\n",
        " money-=M\n",
        "print(money)\n"
      ],
      "metadata": {
        "colab": {
          "base_uri": "https://localhost:8080/",
          "height": 156
        },
        "id": "wmPZr5LhYidF",
        "outputId": "ceb75c68-f847-45b0-f45b-3eb86ac291e5"
      },
      "execution_count": 42,
      "outputs": [
        {
          "name": "stdout",
          "output_type": "stream",
          "text": [
            "사용할 금액 입력>>>10000\n"
          ]
        },
        {
          "output_type": "error",
          "ename": "SyntaxError",
          "evalue": "ignored",
          "traceback": [
            "\u001b[0;36m  File \u001b[0;32m\"<ipython-input-42-1fa96f9c6a7c>\"\u001b[0;36m, line \u001b[0;32m5\u001b[0m\n\u001b[0;31m    break\u001b[0m\n\u001b[0m    ^\u001b[0m\n\u001b[0;31mSyntaxError\u001b[0m\u001b[0;31m:\u001b[0m 'break' outside loop\n"
          ]
        }
      ]
    },
    {
      "cell_type": "code",
      "source": [
        "while True:\n",
        " score = int(input('이번 영화의 평점을 입력하세요>>>'))\n",
        " if score>5 or score<=0:\n",
        "  print('평점은 1~5 사이만 입력할 수 있습니다.')\n",
        " else:\n",
        "  print('평점 : ','★'*score)\n",
        "  break"
      ],
      "metadata": {
        "colab": {
          "base_uri": "https://localhost:8080/"
        },
        "id": "_9pCi9zcaqzq",
        "outputId": "32e34d80-db4d-41ab-8837-3b84d5bdd641"
      },
      "execution_count": 56,
      "outputs": [
        {
          "output_type": "stream",
          "name": "stdout",
          "text": [
            "이번 영화의 평점을 입력하세요>>>1000\n",
            "평점은 1~5 사이만 입력할 수 있습니다.\n",
            "이번 영화의 평점을 입력하세요>>>40\n",
            "평점은 1~5 사이만 입력할 수 있습니다.\n",
            "이번 영화의 평점을 입력하세요>>>1\n",
            "평점 :  ★\n"
          ]
        }
      ]
    },
    {
      "cell_type": "code",
      "source": [
        "i = 0\n",
        "for i in range(51123123):\n",
        " password = 'qwerty'\n",
        " n = input('비밀번호를 입력하세요')\n",
        "  i+=1\n",
        " if n == password:\n",
        "   print('비밀번호를 맞췄습니다.')\n",
        " if i = 5\n",
        " else n!= password:\n",
        "   print('비밀번호가 틀렸습니다.')\n",
        "   \n",
        "\n",
        "   print('비밀번호 입력횟수를 초과했습니다.')"
      ],
      "metadata": {
        "colab": {
          "base_uri": "https://localhost:8080/"
        },
        "id": "aFUCuCCfdv0I",
        "outputId": "c261480d-895e-4c77-dbdd-cb7e83ea1b33"
      },
      "execution_count": 59,
      "outputs": [
        {
          "output_type": "stream",
          "name": "stdout",
          "text": [
            "비밀번호를 입력하세요123\n",
            "비밀번호가 틀렸습니다.\n",
            "비밀번호를 입력하세요23132\n",
            "비밀번호가 틀렸습니다.\n",
            "비밀번호를 입력하세요132132\n",
            "비밀번호가 틀렸습니다.\n",
            "비밀번호를 입력하세요13213132\n",
            "비밀번호가 틀렸습니다.\n",
            "비밀번호를 입력하세요12313\n",
            "비밀번호가 틀렸습니다.\n"
          ]
        }
      ]
    },
    {
      "cell_type": "code",
      "source": [
        "for i in range (2,10):\n",
        "  if i  % 2 == 0:\n",
        "    continue\n",
        "  for j in range (1,10):\n",
        "    if j>i:\n",
        "      break\n",
        "    print(i*j)\n",
        "  print('\\n')"
      ],
      "metadata": {
        "colab": {
          "base_uri": "https://localhost:8080/"
        },
        "id": "eiaZ1YxWf0iP",
        "outputId": "f1431f74-e350-4f41-c405-1bd92c26fb72"
      },
      "execution_count": 76,
      "outputs": [
        {
          "output_type": "stream",
          "name": "stdout",
          "text": [
            "3\n",
            "6\n",
            "9\n",
            "\n",
            "\n",
            "5\n",
            "10\n",
            "15\n",
            "20\n",
            "25\n",
            "\n",
            "\n",
            "7\n",
            "14\n",
            "21\n",
            "28\n",
            "35\n",
            "42\n",
            "49\n",
            "\n",
            "\n",
            "9\n",
            "18\n",
            "27\n",
            "36\n",
            "45\n",
            "54\n",
            "63\n",
            "72\n",
            "81\n",
            "\n",
            "\n"
          ]
        }
      ]
    },
    {
      "cell_type": "code",
      "source": [
        "# p154\n",
        "for item in enumerate(['가위','바위','보']):\n",
        "  print(item)"
      ],
      "metadata": {
        "colab": {
          "base_uri": "https://localhost:8080/"
        },
        "id": "toNF5c6qmEch",
        "outputId": "3d0dc649-fd4f-4772-eb4a-cc2eb32b4815"
      },
      "execution_count": 79,
      "outputs": [
        {
          "output_type": "stream",
          "name": "stdout",
          "text": [
            "(0, '가위')\n",
            "(1, '바위')\n",
            "(2, '보')\n"
          ]
        }
      ]
    },
    {
      "cell_type": "code",
      "source": [
        "for idx, item in enumerate(['가위','바위','보']):\n",
        "  print(idx+1,item)"
      ],
      "metadata": {
        "colab": {
          "base_uri": "https://localhost:8080/"
        },
        "id": "vgPDbF3tm4nx",
        "outputId": "6e000c0e-2f05-407c-c229-bf403128fcbc"
      },
      "execution_count": 82,
      "outputs": [
        {
          "output_type": "stream",
          "name": "stdout",
          "text": [
            "1 가위\n",
            "2 바위\n",
            "3 보\n"
          ]
        }
      ]
    },
    {
      "cell_type": "code",
      "source": [
        "#zip()\n",
        "names = ['james','emily','amanda']\n",
        "score = [60,70,80]\n",
        "for student in zip(names,score):\n",
        "  print(student)"
      ],
      "metadata": {
        "colab": {
          "base_uri": "https://localhost:8080/"
        },
        "id": "CL2o5d01nHs-",
        "outputId": "c3ff9d96-dbe0-4e96-c611-f90a3584288a"
      },
      "execution_count": 83,
      "outputs": [
        {
          "output_type": "stream",
          "name": "stdout",
          "text": [
            "('james', 60)\n",
            "('emily', 70)\n",
            "('amanda', 80)\n"
          ]
        }
      ]
    },
    {
      "cell_type": "code",
      "source": [
        "names = ['james','emily','amanda']\n",
        "score = [60,70,80]\n",
        "for names,score in zip(names,score):\n",
        "  print(names,score)"
      ],
      "metadata": {
        "colab": {
          "base_uri": "https://localhost:8080/"
        },
        "id": "3Fx3JKDen_zV",
        "outputId": "72d96913-f185-47b8-f096-ec79e59aee41"
      },
      "execution_count": 84,
      "outputs": [
        {
          "output_type": "stream",
          "name": "stdout",
          "text": [
            "james 60\n",
            "emily 70\n",
            "amanda 80\n"
          ]
        }
      ]
    },
    {
      "cell_type": "code",
      "source": [
        "# 184p 사용자 함수\n",
        "\n",
        "# def 함수명(변수):\n",
        "#   본문\n",
        "#   return 결과\n",
        "\n",
        "\n"
      ],
      "metadata": {
        "id": "gUHoqdEPoHBc"
      },
      "execution_count": null,
      "outputs": []
    },
    {
      "cell_type": "code",
      "source": [
        "# 1 인수도 없고 반환 없는 함수  함수 이름()          \n",
        "# 2 인수는 있고 반환 없는 함수  함수 이름(인수)\n",
        "# 3 인수가 없고 반환 있는 함수  변수= 함수 이름\n",
        "# 4 인수도 있고 반환 있는 함수  변수= 함수 이름(인수)"
      ],
      "metadata": {
        "id": "t9DBN1TgqgR-"
      },
      "execution_count": null,
      "outputs": []
    },
    {
      "cell_type": "code",
      "source": [
        "# 1 인수도 없고 반환 없는 함수  함수 이름()  \n",
        "def welcome():\n",
        "  print('Hello world')\n",
        "welcome()"
      ],
      "metadata": {
        "colab": {
          "base_uri": "https://localhost:8080/"
        },
        "id": "fvrpOv39q_86",
        "outputId": "1e7e9e16-7000-48e8-ade3-b1c914495b49"
      },
      "execution_count": 89,
      "outputs": [
        {
          "output_type": "stream",
          "name": "stdout",
          "text": [
            "Hello world\n"
          ]
        }
      ]
    },
    {
      "cell_type": "code",
      "source": [
        "# 2 인수는 있고 반환 없는 함수  함수 이름(인수)\n",
        "def welcome(name):\n",
        "  print('Hello',name)\n",
        "welcome('as')"
      ],
      "metadata": {
        "colab": {
          "base_uri": "https://localhost:8080/"
        },
        "id": "vWT5S6i7rdvZ",
        "outputId": "d8c8dfc7-c4c8-4f47-948e-0e0f8f7b0537"
      },
      "execution_count": 92,
      "outputs": [
        {
          "output_type": "stream",
          "name": "stdout",
          "text": [
            "Hello as\n"
          ]
        }
      ]
    },
    {
      "cell_type": "code",
      "source": [
        "# 3 인수가 없고 반환 있는 함수  변수= 함수 이름\n",
        "def welcome():\n",
        "  \n",
        "   return 2\n",
        "welcome()"
      ],
      "metadata": {
        "colab": {
          "base_uri": "https://localhost:8080/"
        },
        "id": "YWf7mEZ1r3pa",
        "outputId": "ae09e795-17b6-4dc8-ed64-7497e6b92372"
      },
      "execution_count": 104,
      "outputs": [
        {
          "output_type": "execute_result",
          "data": {
            "text/plain": [
              "2"
            ]
          },
          "metadata": {},
          "execution_count": 104
        }
      ]
    },
    {
      "cell_type": "code",
      "source": [
        "# 4 인수도 있고 반환 있는 함수  변수= 함수 이름(인수)\n",
        "def add(a,b):\n",
        "  return a+b\n",
        "add(45,12)"
      ],
      "metadata": {
        "colab": {
          "base_uri": "https://localhost:8080/"
        },
        "id": "IMA5LfqasYA_",
        "outputId": "ae53ea65-de37-4d87-ac7e-3b7415f011fa"
      },
      "execution_count": 108,
      "outputs": [
        {
          "output_type": "execute_result",
          "data": {
            "text/plain": [
              "57"
            ]
          },
          "metadata": {},
          "execution_count": 108
        }
      ]
    },
    {
      "cell_type": "code",
      "source": [
        "# p188\n",
        "\n",
        "def introduce(name,age):\n",
        "  print(f'내이름은 {name}이고, 나이는 {age}살 입니다.')\n",
        "introduce('L',123)"
      ],
      "metadata": {
        "colab": {
          "base_uri": "https://localhost:8080/"
        },
        "id": "tUfjOzGossLY",
        "outputId": "283e2f59-9dca-4c60-a4b7-a16b4bfc90aa"
      },
      "execution_count": 109,
      "outputs": [
        {
          "output_type": "stream",
          "name": "stdout",
          "text": [
            "내이름은 L이고, 나이는 123살 입니다.\n"
          ]
        }
      ]
    },
    {
      "cell_type": "code",
      "source": [
        "# 가변 매개변수\n",
        "def show(*args):\n",
        "  for item in args:\n",
        "    print(item)\n",
        "show('python')\n",
        "show('happy','birthday')"
      ],
      "metadata": {
        "colab": {
          "base_uri": "https://localhost:8080/"
        },
        "id": "jixKuQ6itM29",
        "outputId": "1b92e924-4018-44de-ec15-dd310a60804c"
      },
      "execution_count": 110,
      "outputs": [
        {
          "output_type": "stream",
          "name": "stdout",
          "text": [
            "python\n",
            "happy\n",
            "birthday\n"
          ]
        }
      ]
    },
    {
      "cell_type": "code",
      "source": [
        "def add2(a,b):\n",
        "  return a+b\n",
        "def add3(a,b,c):\n",
        "  return a+b+c\n",
        "\n",
        "def add(*args):\n",
        "  sum = 0\n",
        "  for item in args:\n",
        "    sum+=item\n",
        "  print(sum)\n",
        "add(1,2,3,1,2,3,1,2,3,1,2,3)   "
      ],
      "metadata": {
        "colab": {
          "base_uri": "https://localhost:8080/"
        },
        "id": "V4VKmJQFtwoT",
        "outputId": "de4a64eb-b896-4b86-f690-256486c9f5b3"
      },
      "execution_count": 119,
      "outputs": [
        {
          "output_type": "stream",
          "name": "stdout",
          "text": [
            "24\n"
          ]
        }
      ]
    },
    {
      "cell_type": "code",
      "source": [
        "del sum\n",
        "def add(*args):\n",
        "  print(sum(args))\n",
        "add(123,123,123,123,123,123,123,123)"
      ],
      "metadata": {
        "colab": {
          "base_uri": "https://localhost:8080/"
        },
        "id": "PXxejy3Cvb2I",
        "outputId": "52f3ad91-8778-40a5-a62d-96ea91f208f3"
      },
      "execution_count": 128,
      "outputs": [
        {
          "output_type": "stream",
          "name": "stdout",
          "text": [
            "984\n"
          ]
        }
      ]
    },
    {
      "cell_type": "code",
      "source": [
        "# 디폴트 매개변수\n",
        "def greet(message='안녕하세요'):\n",
        "  print(message)\n",
        "greet()\n",
        "greet('hi')\n"
      ],
      "metadata": {
        "colab": {
          "base_uri": "https://localhost:8080/"
        },
        "id": "y8zX4x1Luwbg",
        "outputId": "3cb948b2-09de-4d11-bfa9-caf7f3e13227"
      },
      "execution_count": 122,
      "outputs": [
        {
          "output_type": "stream",
          "name": "stdout",
          "text": [
            "안녕하세요\n",
            "hi\n"
          ]
        }
      ]
    }
  ]
}