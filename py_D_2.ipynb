{
  "nbformat": 4,
  "nbformat_minor": 0,
  "metadata": {
    "colab": {
      "name": "py D-2.ipynb",
      "provenance": [],
      "collapsed_sections": [],
      "authorship_tag": "ABX9TyNTDh99SbaQHl9m2grHkHDv",
      "include_colab_link": true
    },
    "kernelspec": {
      "name": "python3",
      "display_name": "Python 3"
    },
    "language_info": {
      "name": "python"
    }
  },
  "cells": [
    {
      "cell_type": "markdown",
      "metadata": {
        "id": "view-in-github",
        "colab_type": "text"
      },
      "source": [
        "<a href=\"https://colab.research.google.com/github/hyeongwon12/py/blob/main/py_D_2.ipynb\" target=\"_parent\"><img src=\"https://colab.research.google.com/assets/colab-badge.svg\" alt=\"Open In Colab\"/></a>"
      ]
    },
    {
      "cell_type": "code",
      "execution_count": null,
      "metadata": {
        "id": "4z98i7sk04NE"
      },
      "outputs": [],
      "source": [
        "#  39p 컬렉션 \n",
        "\n",
        "# 모음 - 여러 값을 하나의 이름으로 묶어서 관리하는 자료형\n",
        "#                         데이터를                   (인덱싱 슬라이싱) \n",
        "# 리스트 (가장중요) []  수정/삭제 가능   mutable          가능\n",
        "# 튜플              ()  수정/삭제 불가능 immutable        가능\n",
        "# 딕셔너리          {}  수정/삭제 가능   mutable       불가능, 순서가없다\n",
        "# 셋                {}  수정/삭제 가능   mutable       불가능, 순서가없다"
      ]
    },
    {
      "cell_type": "code",
      "source": [
        "# 리스트 - 가장 많이 사용하는 자료형이다. 자료형이 다른 데이터들도 함께 저장할수 있다.\n",
        "li1 = [1,2,3,4]\n",
        "print(li1)\n",
        "li2 = [2,3.14,'hello']\n",
        "print(li2)\n",
        "print(li1 + li2)"
      ],
      "metadata": {
        "colab": {
          "base_uri": "https://localhost:8080/"
        },
        "id": "0SdclB2J7NHd",
        "outputId": "6af17c86-c834-456e-9809-1b1cccb7e532"
      },
      "execution_count": null,
      "outputs": [
        {
          "output_type": "stream",
          "name": "stdout",
          "text": [
            "[1, 2, 3, 4]\n",
            "[2, 3.14, 'hello']\n",
            "[1, 2, 3, 4, 2, 3.14, 'hello']\n"
          ]
        }
      ]
    },
    {
      "cell_type": "code",
      "source": [
        "li = [2,3.14,'hello']\n",
        "li[-1]"
      ],
      "metadata": {
        "colab": {
          "base_uri": "https://localhost:8080/",
          "height": 35
        },
        "id": "VtgD1MSd8itM",
        "outputId": "d90a288f-a974-497d-d6ad-881dd80df5eb"
      },
      "execution_count": null,
      "outputs": [
        {
          "output_type": "execute_result",
          "data": {
            "text/plain": [
              "'hello'"
            ],
            "application/vnd.google.colaboratory.intrinsic+json": {
              "type": "string"
            }
          },
          "metadata": {},
          "execution_count": 8
        }
      ]
    },
    {
      "cell_type": "code",
      "source": [
        "li[1]"
      ],
      "metadata": {
        "colab": {
          "base_uri": "https://localhost:8080/"
        },
        "id": "ZRiU6y929ZgY",
        "outputId": "ee5e7c52-5375-4480-872a-ff982ee7b0c5"
      },
      "execution_count": null,
      "outputs": [
        {
          "output_type": "execute_result",
          "data": {
            "text/plain": [
              "3.14"
            ]
          },
          "metadata": {},
          "execution_count": 9
        }
      ]
    },
    {
      "cell_type": "code",
      "source": [
        "# (start, stop, step)\n",
        "\n",
        "li = [2,3.14,'hello']\n",
        "li[0:3]"
      ],
      "metadata": {
        "colab": {
          "base_uri": "https://localhost:8080/"
        },
        "id": "96lBKr8a9nI-",
        "outputId": "41370adc-bd8c-4f05-bb4d-8b23e45ee733"
      },
      "execution_count": null,
      "outputs": [
        {
          "output_type": "execute_result",
          "data": {
            "text/plain": [
              "[2, 3.14, 'hello']"
            ]
          },
          "metadata": {},
          "execution_count": 13
        }
      ]
    },
    {
      "cell_type": "code",
      "source": [
        "scores = [50,40,30]\n",
        "\n",
        "scores.append(80)  # append는 끝에서 하나씩 추가\n",
        "scores\n",
        "\n",
        "scores.insert(0,100)\n",
        "print(type(scores))"
      ],
      "metadata": {
        "colab": {
          "base_uri": "https://localhost:8080/"
        },
        "id": "TmZIGlIK-H55",
        "outputId": "9359df2e-f26d-4b4e-bc88-2aca18021a27"
      },
      "execution_count": null,
      "outputs": [
        {
          "output_type": "stream",
          "name": "stdout",
          "text": [
            "<class 'list'>\n"
          ]
        }
      ]
    },
    {
      "cell_type": "code",
      "source": [
        "scores"
      ],
      "metadata": {
        "colab": {
          "base_uri": "https://localhost:8080/"
        },
        "id": "ZhwOFG4e_xe5",
        "outputId": "8102ea17-4bbd-4a14-e465-2f0edf6647d6"
      },
      "execution_count": null,
      "outputs": [
        {
          "output_type": "execute_result",
          "data": {
            "text/plain": [
              "[]"
            ]
          },
          "metadata": {},
          "execution_count": 29
        }
      ]
    },
    {
      "cell_type": "code",
      "source": [
        "scores.pop() # 끝에서부터 하나씩 삭제"
      ],
      "metadata": {
        "colab": {
          "base_uri": "https://localhost:8080/",
          "height": 174
        },
        "id": "RuxHhq7qAE09",
        "outputId": "bdf5d708-bcdc-4c05-96e7-6ac5c4788c50"
      },
      "execution_count": null,
      "outputs": [
        {
          "output_type": "error",
          "ename": "IndexError",
          "evalue": "ignored",
          "traceback": [
            "\u001b[0;31m---------------------------------------------------------------------------\u001b[0m",
            "\u001b[0;31mIndexError\u001b[0m                                Traceback (most recent call last)",
            "\u001b[0;32m<ipython-input-27-e261a64cfd2b>\u001b[0m in \u001b[0;36m<module>\u001b[0;34m()\u001b[0m\n\u001b[0;32m----> 1\u001b[0;31m \u001b[0mscores\u001b[0m\u001b[0;34m.\u001b[0m\u001b[0mpop\u001b[0m\u001b[0;34m(\u001b[0m\u001b[0;34m)\u001b[0m \u001b[0;31m# 끝에서부터 하나씩 삭제\u001b[0m\u001b[0;34m\u001b[0m\u001b[0;34m\u001b[0m\u001b[0m\n\u001b[0m",
            "\u001b[0;31mIndexError\u001b[0m: pop from empty list"
          ]
        }
      ]
    },
    {
      "cell_type": "code",
      "source": [
        "scores"
      ],
      "metadata": {
        "colab": {
          "base_uri": "https://localhost:8080/"
        },
        "id": "bpFC4SyFAOSr",
        "outputId": "6b0f35c7-1d51-44a6-aebd-f76a6ebaf71b"
      },
      "execution_count": null,
      "outputs": [
        {
          "output_type": "execute_result",
          "data": {
            "text/plain": [
              "[]"
            ]
          },
          "metadata": {},
          "execution_count": 28
        }
      ]
    },
    {
      "cell_type": "code",
      "source": [
        "# 튜플 - 한마디로 표현하면... 수정할수 없는 리스트.\n",
        "#        괄호 생략 가능\n",
        "\n",
        "tu1 = (1,2,3)\n",
        "print(tu1)\n",
        "print(type(tu1))\n",
        "\n",
        "tu2 = 2,3,4\n",
        "print(tu2)\n",
        "print(type(tu2))\n",
        "\n",
        "tu3 = 2,3.14,'문자'\n",
        "print(tu3)\n",
        "print(type(tu3))\n"
      ],
      "metadata": {
        "colab": {
          "base_uri": "https://localhost:8080/"
        },
        "id": "AMK6US3LAy73",
        "outputId": "414eac11-4d29-4880-b1c6-de84e78515ff"
      },
      "execution_count": null,
      "outputs": [
        {
          "output_type": "stream",
          "name": "stdout",
          "text": [
            "(1, 2, 3)\n",
            "<class 'tuple'>\n",
            "(2, 3, 4)\n",
            "<class 'tuple'>\n",
            "(2, 3.14, '문자')\n",
            "<class 'tuple'>\n"
          ]
        }
      ]
    },
    {
      "cell_type": "code",
      "source": [
        "tu = (10,20,30,40,50)\n",
        "tu[0:3]"
      ],
      "metadata": {
        "colab": {
          "base_uri": "https://localhost:8080/"
        },
        "id": "o9NdBKeP9KkR",
        "outputId": "3907bda9-adac-48b3-b9ec-679d98a183dd"
      },
      "execution_count": 1,
      "outputs": [
        {
          "output_type": "execute_result",
          "data": {
            "text/plain": [
              "(10, 20, 30)"
            ]
          },
          "metadata": {},
          "execution_count": 1
        }
      ]
    },
    {
      "cell_type": "code",
      "source": [
        "set = {1,2,2,3,3,3}     # 중복을 지우는데 많이활용\n",
        "print(type(set))\n",
        "print(set)"
      ],
      "metadata": {
        "colab": {
          "base_uri": "https://localhost:8080/"
        },
        "id": "v4bF__a19ioR",
        "outputId": "f58cabea-abb8-4a5e-8618-b06c587a6d13"
      },
      "execution_count": 3,
      "outputs": [
        {
          "output_type": "stream",
          "name": "stdout",
          "text": [
            "<class 'set'>\n",
            "{1, 2, 3}\n"
          ]
        }
      ]
    },
    {
      "cell_type": "code",
      "source": [
        "set.add(4)\n",
        "set.remove(3)\n",
        "print(set)"
      ],
      "metadata": {
        "colab": {
          "base_uri": "https://localhost:8080/"
        },
        "id": "jCk37HF--BnT",
        "outputId": "87e89115-7a3c-466e-f7c8-60623804fe0d"
      },
      "execution_count": 6,
      "outputs": [
        {
          "output_type": "stream",
          "name": "stdout",
          "text": [
            "{1, 2, 4}\n"
          ]
        }
      ]
    },
    {
      "cell_type": "code",
      "source": [
        "# 딕셔너리 : 키와 밸류 한쌍으로 구성된 자료형이다.\n",
        "\n",
        "dict = {'a':'apple', 'b':'banana'}\n",
        "\n",
        "print(dict)\n",
        "print(type(dict))"
      ],
      "metadata": {
        "colab": {
          "base_uri": "https://localhost:8080/"
        },
        "id": "rwKZzTyf-bE7",
        "outputId": "e882347e-763f-4c0a-d9a5-fbeff5571dc7"
      },
      "execution_count": 8,
      "outputs": [
        {
          "output_type": "stream",
          "name": "stdout",
          "text": [
            "{'a': 'apple', 'b': 'banana'}\n",
            "<class 'dict'>\n"
          ]
        }
      ]
    },
    {
      "cell_type": "code",
      "source": [
        "dict['w']='watermelon'\n",
        "print(dict)\n",
        "print(type(dict))"
      ],
      "metadata": {
        "colab": {
          "base_uri": "https://localhost:8080/"
        },
        "id": "Ck-gglAO_gLw",
        "outputId": "b1bb9ea5-ea84-4f9e-ec2d-125668bccb62"
      },
      "execution_count": 11,
      "outputs": [
        {
          "output_type": "stream",
          "name": "stdout",
          "text": [
            "{'a': 'apple', 'b': 'banana', 'w': 'watermelon'}\n",
            "<class 'dict'>\n"
          ]
        }
      ]
    },
    {
      "cell_type": "code",
      "source": [
        "dict.pop('a')\n",
        "print(dict)\n",
        "print(type(ditc))"
      ],
      "metadata": {
        "colab": {
          "base_uri": "https://localhost:8080/"
        },
        "id": "feySrJWq_vNn",
        "outputId": "ece312d2-8199-4ae0-90a1-ba8eef4cee23"
      },
      "execution_count": 12,
      "outputs": [
        {
          "output_type": "stream",
          "name": "stdout",
          "text": [
            "{'b': 'banana', 'w': 'watermelon'}\n",
            "<class 'dict'>\n"
          ]
        }
      ]
    },
    {
      "cell_type": "code",
      "source": [
        "me = [1,2,3]   #리스트\n",
        "id(me)"
      ],
      "metadata": {
        "colab": {
          "base_uri": "https://localhost:8080/"
        },
        "id": "uKoIovAe_6-U",
        "outputId": "b78fe7fc-5993-46a6-f93c-79e0dc136105"
      },
      "execution_count": 14,
      "outputs": [
        {
          "output_type": "execute_result",
          "data": {
            "text/plain": [
              "139984457200096"
            ]
          },
          "metadata": {},
          "execution_count": 14
        }
      ]
    },
    {
      "cell_type": "code",
      "source": [
        "me.append(4)\n",
        "print(id(me))\n",
        "print(me)"
      ],
      "metadata": {
        "colab": {
          "base_uri": "https://localhost:8080/"
        },
        "id": "0dJwwqnJBUo9",
        "outputId": "5be5b587-19f7-45db-d1e4-e1c5b6daefd4"
      },
      "execution_count": 17,
      "outputs": [
        {
          "output_type": "stream",
          "name": "stdout",
          "text": [
            "139984457200096\n",
            "[1, 2, 3, 4, 4, 4]\n"
          ]
        }
      ]
    },
    {
      "cell_type": "code",
      "source": [
        "me = 10       #정수 \n",
        "print(id(me))"
      ],
      "metadata": {
        "colab": {
          "base_uri": "https://localhost:8080/"
        },
        "id": "tr8Mot8ZBuXu",
        "outputId": "c3198687-b029-4f6b-9825-e12352bb05aa"
      },
      "execution_count": 18,
      "outputs": [
        {
          "output_type": "stream",
          "name": "stdout",
          "text": [
            "94190535207712\n"
          ]
        }
      ]
    },
    {
      "cell_type": "code",
      "source": [
        "me += 1\n",
        "print(id(me))"
      ],
      "metadata": {
        "colab": {
          "base_uri": "https://localhost:8080/"
        },
        "id": "UxvqdE-WB4-d",
        "outputId": "4c8478b9-d7d2-46e6-a5a9-b5e964f94c57"
      },
      "execution_count": 19,
      "outputs": [
        {
          "output_type": "stream",
          "name": "stdout",
          "text": [
            "94190535207744\n"
          ]
        }
      ]
    },
    {
      "cell_type": "code",
      "source": [
        "me = [1,2,3]\n",
        "\n",
        "you = me\n",
        "\n",
        "print(id(me))\n",
        "print(id(you))"
      ],
      "metadata": {
        "colab": {
          "base_uri": "https://localhost:8080/"
        },
        "id": "13DRwY6yCSks",
        "outputId": "9b489ba2-a0af-447a-8b56-125d18f0e4d3"
      },
      "execution_count": 21,
      "outputs": [
        {
          "output_type": "stream",
          "name": "stdout",
          "text": [
            "139984458414592\n",
            "139984458414592\n"
          ]
        }
      ]
    },
    {
      "cell_type": "code",
      "source": [
        "you.append(4)\n",
        "\n",
        "print(id(me))\n",
        "print(id(you))\n",
        "print(me)\n",
        "print(you)"
      ],
      "metadata": {
        "colab": {
          "base_uri": "https://localhost:8080/"
        },
        "id": "R7rVW287CgoT",
        "outputId": "da8204b0-781e-42e0-c9d4-053b179811f6"
      },
      "execution_count": 22,
      "outputs": [
        {
          "output_type": "stream",
          "name": "stdout",
          "text": [
            "139984458414592\n",
            "139984458414592\n",
            "[1, 2, 3, 4]\n",
            "[1, 2, 3, 4]\n"
          ]
        }
      ]
    },
    {
      "cell_type": "code",
      "source": [
        "# p49\n",
        "# 2. 전체 차량번호에서 뒤에 숫자4자리만 출력하는 프로그램을 구현하세요. 전체 차량번호는 '서울2가1234',10가1234,'288가1234'와 같이 다르지만,모두 차량번호 4자리는 '1234입니다'.\n",
        "a = '서울2가1234'\n",
        "b = '10가1234'\n",
        "c = '288가1234'\n",
        "print(a,'의 차량번호 4자리는',a[-4:])\n",
        "print(b,'의 차량번호 4자리는',b[-4:])\n",
        "print(c,'의 차량번호 4자리는',c[-4:])"
      ],
      "metadata": {
        "colab": {
          "base_uri": "https://localhost:8080/"
        },
        "id": "UzombYAHD0ci",
        "outputId": "c6681c87-8be6-46ca-bae6-e5a800c0e3b3"
      },
      "execution_count": 37,
      "outputs": [
        {
          "output_type": "stream",
          "name": "stdout",
          "text": [
            "서울2가1234 의 차량번호 4자리는 1234\n",
            "10가1234 의 차량번호 4자리는 1234\n",
            "288가1234 의 차량번호 4자리는 1234\n"
          ]
        }
      ]
    },
    {
      "cell_type": "code",
      "source": [
        "# 3. 문자열s에 'maple'이 저장되어 있습니다. 문자열s의 가운데 글자를 출력하는 프로그램을 구현하세요.\n",
        "\n",
        "s = 'maple'\n",
        "print(s,'의 가운데 글자는',s[2],'입니다')\n"
      ],
      "metadata": {
        "colab": {
          "base_uri": "https://localhost:8080/"
        },
        "id": "5sbaKH8MHFeH",
        "outputId": "b09a147d-a310-4017-d928-581127828e71"
      },
      "execution_count": 40,
      "outputs": [
        {
          "output_type": "stream",
          "name": "stdout",
          "text": [
            "maple 의 가운데 글자는 p 입니다\n"
          ]
        }
      ]
    },
    {
      "cell_type": "code",
      "source": [
        "# 4. 리스트[10,20,30,40,50,60,70,80,90,100]의 3번째 요소부터 7번째 요소만 추출한 결과 리스트에서 2번째 요소를 출력하는 프로그램을 구현하세요.\n",
        "\n",
        "li = [10,20,30,40,50,60,70,80,90,100]\n",
        "print('3번째 요소부터 7번째 요소=',li[2:7])\n",
        "print('3번째 요소부터 7번째 요소중 2번째 요소=',li[2:7][1])"
      ],
      "metadata": {
        "colab": {
          "base_uri": "https://localhost:8080/"
        },
        "id": "1QzThx3zUfMZ",
        "outputId": "144bd0e8-ff2d-478c-bd69-39de8353261b"
      },
      "execution_count": 70,
      "outputs": [
        {
          "output_type": "stream",
          "name": "stdout",
          "text": [
            "3번째 요소부터 7번째 요소= [30, 40, 50, 60, 70]\n",
            "3번째 요소부터 7번째 요소중 2번째 요소= 40\n"
          ]
        }
      ]
    },
    {
      "cell_type": "code",
      "source": [
        "# 5. 어떤 중국음식점의 이번 주말 할인 메누는 금요일은 탕수육, 토요일은 유산슬. 일요일은 팔보채입니다. 요일별 할인 메뉴를 딕셔너리(dict) 구조로 저장하고 다음과 같이 출력하는 프로그램을 구현하세요.\n",
        "\n",
        "dict = {'금요일':'탕수육','토요일':'유산슬','일요일':'팔보채'}\n",
        "print('금요일:',dict['금요일'])\n",
        "print('토요일:',dict['토요일'])\n",
        "print('일요일:',dict['일요일'])"
      ],
      "metadata": {
        "colab": {
          "base_uri": "https://localhost:8080/"
        },
        "id": "VHRPrxJcVKRu",
        "outputId": "1ea71163-7271-4670-a4ca-843858a46a07"
      },
      "execution_count": 71,
      "outputs": [
        {
          "output_type": "stream",
          "name": "stdout",
          "text": [
            "금요일: 탕수육\n",
            "토요일: 유산슬\n",
            "일요일: 팔보채\n"
          ]
        }
      ]
    },
    {
      "cell_type": "code",
      "source": [
        "print('Hello \\'World\\'')\n",
        "print('*\\n**\\n***\\n')\n",
        "print('이름\\t연락처')\n",
        "print('제시카 \\t 02-123-4567')\n",
        "print('마틴 \\t 010-8765-1234')"
      ],
      "metadata": {
        "colab": {
          "base_uri": "https://localhost:8080/"
        },
        "id": "Ld2qny7VVKOM",
        "outputId": "e016a32c-8b17-43fa-fc16-089f6d0c9f79"
      },
      "execution_count": 72,
      "outputs": [
        {
          "output_type": "stream",
          "name": "stdout",
          "text": [
            "Hello 'World'\n",
            "*\n",
            "**\n",
            "***\n",
            "\n",
            "이름\t연락처\n",
            "제시카 \t 02-123-4567\n",
            "마틴 \t 010-8765-1234\n"
          ]
        }
      ]
    },
    {
      "cell_type": "code",
      "source": [
        "print('재미있는','파이썬', sep='')\n",
        "print('Python','Java','C', sep='.')\n",
        "print()\n",
        "print('영화 타이타닉')\n",
        "print('평점', end = ':')\n",
        "print('5점')"
      ],
      "metadata": {
        "colab": {
          "base_uri": "https://localhost:8080/"
        },
        "id": "du2Es1t6VS_p",
        "outputId": "59ae71dd-776a-4051-bc7c-611a56901847"
      },
      "execution_count": 73,
      "outputs": [
        {
          "output_type": "stream",
          "name": "stdout",
          "text": [
            "재미있는파이썬\n",
            "Python.Java.C\n",
            "\n",
            "영화 타이타닉\n",
            "평점:5점\n"
          ]
        }
      ]
    }
  ]
}